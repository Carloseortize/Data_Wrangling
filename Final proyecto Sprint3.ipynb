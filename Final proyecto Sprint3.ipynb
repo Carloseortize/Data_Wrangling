{
 "cells": [
  {
   "cell_type": "markdown",
   "metadata": {
    "toc": true
   },
   "source": [
    "<h1>Table of Contents<span class=\"tocSkip\"></span></h1>\n",
    "<div class=\"toc\"><ul class=\"toc-item\"><li><span><a href=\"#Introducción--\" data-toc-modified-id=\"Introducción---1\"><span class=\"toc-item-num\">1&nbsp;&nbsp;</span>Introducción  <a id=\"intro\" rel=\"nofollow\"></a></a></span><ul class=\"toc-item\"><li><span><a href=\"#Objetivo:-\" data-toc-modified-id=\"Objetivo:--1.1\"><span class=\"toc-item-num\">1.1&nbsp;&nbsp;</span>Objetivo: <a id=\"objetivo\" rel=\"nofollow\"></a></a></span></li><li><span><a href=\"#Etapas-\" data-toc-modified-id=\"Etapas--1.2\"><span class=\"toc-item-num\">1.2&nbsp;&nbsp;</span>Etapas <a id=\"etapas\" rel=\"nofollow\"></a></a></span></li></ul></li><li><span><a href=\"#Etapa-1.-Descripción-de-los-datos-\" data-toc-modified-id=\"Etapa-1.-Descripción-de-los-datos--2\"><span class=\"toc-item-num\">2&nbsp;&nbsp;</span>Etapa 1. Descripción de los datos <a id=\"data_review\" rel=\"nofollow\"></a></a></span><ul class=\"toc-item\"><li><span><a href=\"#Escribe-observaciones-de-tu-parte.\" data-toc-modified-id=\"Escribe-observaciones-de-tu-parte.-2.1\"><span class=\"toc-item-num\">2.1&nbsp;&nbsp;</span>Escribe observaciones de tu parte.</a></span><ul class=\"toc-item\"><li><span><a href=\"#Respuesta:\" data-toc-modified-id=\"Respuesta:-2.1.1\"><span class=\"toc-item-num\">2.1.1&nbsp;&nbsp;</span>Respuesta:</a></span></li></ul></li></ul></li><li><span><a href=\"#Etapa-2.-Preprocesamiento-de-datos-\" data-toc-modified-id=\"Etapa-2.-Preprocesamiento-de-datos--3\"><span class=\"toc-item-num\">3&nbsp;&nbsp;</span>Etapa 2. Preprocesamiento de datos <a id=\"data_preprocessing\" rel=\"nofollow\"></a></a></span><ul class=\"toc-item\"><li><span><a href=\"#Estilo-del-encabezado-\" data-toc-modified-id=\"Estilo-del-encabezado--3.1\"><span class=\"toc-item-num\">3.1&nbsp;&nbsp;</span>Estilo del encabezado <a id=\"header_style\" rel=\"nofollow\"></a></a></span></li><li><span><a href=\"#Valores-ausentes-\" data-toc-modified-id=\"Valores-ausentes--3.2\"><span class=\"toc-item-num\">3.2&nbsp;&nbsp;</span>Valores ausentes <a id=\"missing_values\" rel=\"nofollow\"></a></a></span></li><li><span><a href=\"#Duplicados-\" data-toc-modified-id=\"Duplicados--3.3\"><span class=\"toc-item-num\">3.3&nbsp;&nbsp;</span>Duplicados <a id=\"duplicates\" rel=\"nofollow\"></a></a></span></li><li><span><a href=\"#Tus-observaciones-\" data-toc-modified-id=\"Tus-observaciones--3.4\"><span class=\"toc-item-num\">3.4&nbsp;&nbsp;</span>Tus observaciones <a id=\"data_preprocessing_conclusions\" rel=\"nofollow\"></a></a></span><ul class=\"toc-item\"><li><span><a href=\"#Observaciones\" data-toc-modified-id=\"Observaciones-3.4.1\"><span class=\"toc-item-num\">3.4.1&nbsp;&nbsp;</span>Observaciones</a></span></li></ul></li></ul></li><li><span><a href=\"#Etapa-3.-Prueba-de-hipótesis-\" data-toc-modified-id=\"Etapa-3.-Prueba-de-hipótesis--4\"><span class=\"toc-item-num\">4&nbsp;&nbsp;</span>Etapa 3. Prueba de hipótesis <a id=\"hypothesis\" rel=\"nofollow\"></a></a></span><ul class=\"toc-item\"><li><span><a href=\"#Hipótesis:-comparar-el-comportamiento-del-usuario-o-la-usuaria-en-las-dos-ciudades-\" data-toc-modified-id=\"Hipótesis:-comparar-el-comportamiento-del-usuario-o-la-usuaria-en-las-dos-ciudades--4.1\"><span class=\"toc-item-num\">4.1&nbsp;&nbsp;</span>Hipótesis: comparar el comportamiento del usuario o la usuaria en las dos ciudades <a id=\"activity\" rel=\"nofollow\"></a></a></span></li><li><span><a href=\"#Conclusiones\" data-toc-modified-id=\"Conclusiones-4.2\"><span class=\"toc-item-num\">4.2&nbsp;&nbsp;</span>Conclusiones</a></span></li></ul></li><li><span><a href=\"#Conclusiones-\" data-toc-modified-id=\"Conclusiones--5\"><span class=\"toc-item-num\">5&nbsp;&nbsp;</span>Conclusiones <a id=\"end\" rel=\"nofollow\"></a></a></span></li></ul></div>"
   ]
  },
  {
   "cell_type": "markdown",
   "metadata": {},
   "source": [
    "# ¡Hola Carlos!\n",
    "\n",
    "Mi nombre es Ezequiel Ferrario, soy code reviewer en Tripleten y tengo el agrado de revisar el proyecto que entregaste.\n",
    "\n",
    "Para simular la dinámica de un ambiente de trabajo, si veo algún error, en primer instancia solo los señalaré, dándote la oportunidad de encontrarlos y corregirlos por tu cuenta. En un trabajo real, el líder de tu equipo hará una dinámica similar. En caso de que no puedas resolver la tarea, te daré una información más precisa en la próxima revisión.\n",
    "\n",
    "Encontrarás mis comentarios más abajo - **por favor, no los muevas, no los modifiques ni los borres**.\n",
    "\n",
    "¿Cómo lo voy a hacer? Voy a leer detenidamente cada una de las implementaciones que has llevado a cabo para cumplir con lo solicitado. Verás los comentarios de esta forma:\n",
    "\n",
    "<div class=\"alert alert-block alert-success\">\n",
    "<b>Comentario del revisor</b> <a class=\"tocSkip\"></a>\n",
    "\n",
    "Si todo está perfecto.\n",
    "</div>\n",
    "\n",
    "\n",
    "<div class=\"alert alert-block alert-warning\">\n",
    "<b>Comentario del revisor</b> <a class=\"tocSkip\"></a>\n",
    "\n",
    "Si tu código está bien pero se puede mejorar o hay algún detalle que le hace falta. Se aceptan uno o dos comentarios de este tipo en el borrador, pero si hay más, deberá hacer las correcciones. Es como una tarea de prueba al solicitar un trabajo: muchos pequeños errores pueden hacer que un candidato sea rechazado.\n",
    "</div>\n",
    "\n",
    "<div class=\"alert alert-block alert-danger\">\n",
    "\n",
    "<b>Comentario del revisor</b> <a class=\"tocSkip\"></a>\n",
    "\n",
    "Si de pronto hace falta algo o existe algún problema con tu código o conclusiones.\n",
    "</div>\n",
    "\n",
    "Puedes responderme de esta forma:\n",
    "\n",
    "<div class=\"alert alert-block alert-info\">\n",
    "<b>Respuesta del estudiante</b> <a class=\"tocSkip\"></a>\n",
    "\n",
    "Hola, muchas gracias por tus comentarios y la revisión.        \n",
    "</div>\n",
    "\n",
    "¡Empecemos!"
   ]
  },
  {
   "cell_type": "markdown",
   "metadata": {},
   "source": [
    "-----------\n",
    "\n",
    "\n",
    "<div class=\"alert alert-block alert-danger\">\n",
    "<b>Comentario general #1</b> <a class=\"tocSkip\"></a>\n",
    "\n",
    "Carlos, has realiza un excelente trabajo donde abarcaste todos los puntos del mismo.\n",
    "\n",
    "A nivel codigo te supiste manejar con todos los metodos para extraer la informacion. En cuanto a tus analisis destacaran durante todo el proyecto ya que agregaron claridad en todo momento.\n",
    "\n",
    "Resta un detalle por corregir.\n",
    "\n",
    "\n",
    "Quedo atento a tu correccion, saludos.</div>\n",
    "\n",
    "\n",
    "<div class=\"alert alert-block alert-success\">\n",
    "<b>Comentario general #2</b> <a class=\"tocSkip\"></a>\n",
    "\n",
    "Carlos, abarcado el unico detalle que faltaba y sumado a la excelente tabla de contenidos, el proyecto queda **aprobado**.\n",
    "\n",
    "Exitos en lo que viene.\n",
    "\n",
    "Saludos.</div>\n",
    "\n",
    "----------"
   ]
  },
  {
   "cell_type": "markdown",
   "metadata": {
    "id": "E0vqbgi9ay0H"
   },
   "source": [
    "# Déjame escuchar la música"
   ]
  },
  {
   "cell_type": "markdown",
   "metadata": {
    "id": "fhq_eyov_Zcs"
   },
   "source": [
    "<h1>Table of Contents<span class=\"tocSkip\"></span></h1>\n",
    "<div class=\"toc\"><ul class=\"toc-item\"><li><span><a href=\"#Introducción--\" data-toc-modified-id=\"Introducción---1\"><span class=\"toc-item-num\">1&nbsp;&nbsp;</span>Introducción  <a id=\"intro\" rel=\"nofollow\"></a></a></span><ul class=\"toc-item\"><li><span><a href=\"#Objetivo:-\" data-toc-modified-id=\"Objetivo:--1.1\"><span class=\"toc-item-num\">1.1&nbsp;&nbsp;</span>Objetivo: <a id=\"objetivo\" rel=\"nofollow\"></a></a></span></li><li><span><a href=\"#Etapas-\" data-toc-modified-id=\"Etapas--1.2\"><span class=\"toc-item-num\">1.2&nbsp;&nbsp;</span>Etapas <a id=\"etapas\" rel=\"nofollow\"></a></a></span></li></ul></li><li><span><a href=\"#Etapa-1.-Descripción-de-los-datos-\" data-toc-modified-id=\"Etapa-1.-Descripción-de-los-datos--2\"><span class=\"toc-item-num\">2&nbsp;&nbsp;</span>Etapa 1. Descripción de los datos <a id=\"data_review\" rel=\"nofollow\"></a></a></span><ul class=\"toc-item\"><li><span><a href=\"#Escribe-observaciones-de-tu-parte.\" data-toc-modified-id=\"Escribe-observaciones-de-tu-parte.-2.1\"><span class=\"toc-item-num\">2.1&nbsp;&nbsp;</span>Escribe observaciones de t\n",
    "    u parte.</a></span><ul class=\"toc-item\"><li><span><a href=\"#Respuesta:\" data-toc-modified-id=\"Respuesta:-2.1.1\"><span class=\"toc-item-num\">2.1.1&nbsp;&nbsp;</span>Respuesta:</a></span></li></ul></li></ul></li><li><span><a href=\"#Etapa-2.-Preprocesamiento-de-datos-\" data-toc-modified-id=\"Etapa-2.-Preprocesamiento-de-datos--3\"><span class=\"toc-item-num\">3&nbsp;&nbsp;</span>Etapa 2. Preprocesamiento de datos <a id=\"data_preprocessing\" rel=\"nofollow\"></a></a></span><ul class=\"toc-item\"><li><span><a href=\"#Estilo-del-encabezado-\" data-toc-modified-id=\"Estilo-del-encabezado--3.1\"><span class=\"toc-item-num\">3.1&nbsp;&nbsp;</span>Estilo del encabezado <a id=\"header_style\" rel=\"nofollow\"></a></a></span></li><li><span><a href=\"#Valores-ausentes-\" data-toc-modified-id=\"Valores-ausentes--3.2\"><span class=\"toc-item-num\">3.2&nbsp;&nbsp;</span>Valores ausentes <a id=\"missing_values\" rel=\"nofollow\"></a></a></span></li><li><span><a href=\"#Duplicados-\" data-toc-modified-id=\"Duplicados--3.3\"><span class=\"toc-item-num\">3.3&nbsp;&nbsp;</span>Duplicados <a id=\"duplicates\" rel=\"nofollow\"></a></a></span></li><li><span><a href=\"#Tus-observaciones-\" data-toc-modified-id=\"Tus-observaciones--3.4\"><span class=\"toc-item-num\">3.4&nbsp;&nbsp;</span>Tus observaciones <a id=\"data_preprocessing_conclusions\" rel=\"nofollow\"></a></a></span><ul class=\"toc-item\"><li><span><a href=\"#Observaciones\" data-toc-modified-id=\"Observaciones-3.4.1\"><span class=\"toc-item-num\">3.4.1&nbsp;&nbsp;</span>Observaciones</a></span></li></ul></li></ul></li><li><span><a href=\"#Etapa-3.-Prueba-de-hipótesis-\" data-toc-modified-id=\"Etapa-3.-Prueba-de-hipótesis--4\"><span class=\"toc-item-num\">4&nbsp;&nbsp;</span>Etapa 3. Prueba de hipótesis <a id=\"hypothesis\" rel=\"nofollow\"></a></a></span><ul class=\"toc-item\"><li><span><a href=\"#Hipótesis:-comparar-el-comportamiento-del-usuario-o-la-usuaria-en-las-dos-ciudades-\" data-toc-modified-id=\"Hipótesis:-comparar-el-comportamiento-del-usuario-o-la-usuaria-en-las-dos-ciudades--4.1\"><span class=\"toc-item-num\">4.1&nbsp;&nbsp;</span>Hipótesis: comparar el comportamiento del usuario o la usuaria en las dos ciudades <a id=\"activity\" rel=\"nofollow\"></a></a></span></li><li><span><a href=\"#Conclusiones\" data-toc-modified-id=\"Conclusiones-4.2\"><span class=\"toc-item-num\">4.2&nbsp;&nbsp;</span>Conclusiones</a></span></li></ul></li><li><span><a href=\"#Conclusiones-\" data-toc-modified-id=\"Conclusiones--5\"><span class=\"toc-item-num\">5&nbsp;&nbsp;</span>Conclusiones <a id=\"end\" rel=\"nofollow\"></a></a></span></li></ul></div>"
   ]
  },
  {
   "cell_type": "markdown",
   "metadata": {},
   "source": [
    "<div class=\"alert alert-block alert-warning\">\n",
    "\n",
    "<b>Comentario del revisor</b> <a class=\"tocSkip\"></a>\n",
    "\n",
    "Muy bien la tabla de contenidos pero debe estar linkeada a las secciones (al clickear debe llevarnos a esa seccion) de esta menera es mas facil desplazarse.\n",
    "\n",
    "Como consejo, si realizas bien todas las secciones (con su respectivo #) podes generarlo automáticamente desde jupyter lab. Para hacerlo, en la pestaña de herramientas de jupyter lab clickeas en el **botón de los puntos y barras**  (Table of contents) te generara automáticamente una tabla de contenidos linkeable y estética. A la **derecha** del seleccionador del tipo de celda (code/markdown)\n",
    "</div>\n",
    "\n",
    "<div class=\"alert alert-block alert-success\">\n",
    "<b>Comentario del revisor #2</b> <a class=\"tocSkip\"></a>\n",
    "\n",
    "Corregido, excelente.\n",
    "</div>"
   ]
  },
  {
   "cell_type": "markdown",
   "metadata": {
    "id": "VUC88oWjTJw2"
   },
   "source": [
    "## Introducción  <a id='intro'></a>\n",
    "\n",
    "Como analista de datos, tu trabajo consiste en analizar datos para extraer información valiosa y tomar decisiones basadas en ellos. Esto implica diferentes etapas, como la descripción general de los datos, el preprocesamiento y la prueba de hipótesis.\n",
    "\n",
    "Siempre que investigamos, necesitamos formular hipótesis que después podamos probar. A veces aceptamos estas hipótesis; otras veces, las rechazamos. Para tomar las decisiones correctas, una empresa debe ser capaz de entender si está haciendo las suposiciones correctas.\n",
    "\n",
    "En este proyecto, compararás las preferencias musicales de las ciudades de Springfield y Shelbyville. Estudiarás datos reales de transmisión de música online para probar la hipótesis a continuación y comparar el comportamiento de los usuarios y las usuarias de estas dos ciudades.\n",
    "\n",
    "### Objetivo: <a id='objetivo'></a>\n",
    "Prueba la hipótesis:\n",
    "1. La actividad de los usuarios y las usuarias difiere según el día de la semana y dependiendo de la ciudad.\n",
    "\n",
    "\n",
    "### Etapas <a id='etapas'></a>\n",
    "Los datos del comportamiento del usuario se almacenan en el archivo `/datasets/music_project_en.csv`. No hay ninguna información sobre la calidad de los datos, así que necesitarás examinarlos antes de probar la hipótesis.\n",
    "\n",
    "Primero, evaluarás la calidad de los datos y verás si los problemas son significativos. Entonces, durante el preprocesamiento de datos, tomarás en cuenta los problemas más críticos.\n",
    "\n",
    "Tu proyecto consistirá en tres etapas:\n",
    " 1. Descripción de los datos.\n",
    " 2. Preprocesamiento de datos.\n",
    " 3. Prueba de hipótesis.\n",
    "\n",
    "\n",
    "\n",
    "\n",
    "\n",
    "\n"
   ]
  },
  {
   "cell_type": "markdown",
   "metadata": {
    "id": "hDt6pg-Rw-1U"
   },
   "source": [
    "[Volver a Contenidos](#back)"
   ]
  },
  {
   "cell_type": "markdown",
   "metadata": {},
   "source": [
    "# Etapas"
   ]
  },
  {
   "cell_type": "markdown",
   "metadata": {
    "id": "Ml1hmfXC_Zcs"
   },
   "source": [
    "## Etapa 1. Descripción de los datos <a id='data_review'></a>\n",
    "\n",
    "Abre los datos y examínalos."
   ]
  },
  {
   "cell_type": "markdown",
   "metadata": {
    "id": "57eAOGIz_Zcs"
   },
   "source": [
    "Necesitarás `pandas`, así que impórtalo."
   ]
  },
  {
   "cell_type": "code",
   "execution_count": 1,
   "metadata": {
    "id": "AXN7PHPN_Zcs"
   },
   "outputs": [],
   "source": [
    "import pandas as pd# Importar pandas\n"
   ]
  },
  {
   "cell_type": "markdown",
   "metadata": {
    "id": "SG23P8tt_Zcs"
   },
   "source": [
    "Lee el archivo `music_project_en.csv` de la carpeta `/datasets/` y guárdalo en la variable `df`:"
   ]
  },
  {
   "cell_type": "code",
   "execution_count": 2,
   "metadata": {
    "id": "fFVu7vqh_Zct"
   },
   "outputs": [],
   "source": [
    "# Leer el archivo y almacenarlo en df\n",
    "df= pd.read_csv(\"/datasets/music_project_en.csv\")\n"
   ]
  },
  {
   "cell_type": "markdown",
   "metadata": {
    "id": "rDoOMd3uTqnZ"
   },
   "source": [
    "Muestra las 10 primeras filas de la tabla:"
   ]
  },
  {
   "cell_type": "code",
   "execution_count": 3,
   "metadata": {
    "id": "oWTVX3gW_Zct"
   },
   "outputs": [
    {
     "data": {
      "text/html": [
       "<div>\n",
       "<style scoped>\n",
       "    .dataframe tbody tr th:only-of-type {\n",
       "        vertical-align: middle;\n",
       "    }\n",
       "\n",
       "    .dataframe tbody tr th {\n",
       "        vertical-align: top;\n",
       "    }\n",
       "\n",
       "    .dataframe thead th {\n",
       "        text-align: right;\n",
       "    }\n",
       "</style>\n",
       "<table border=\"1\" class=\"dataframe\">\n",
       "  <thead>\n",
       "    <tr style=\"text-align: right;\">\n",
       "      <th></th>\n",
       "      <th>userID</th>\n",
       "      <th>Track</th>\n",
       "      <th>artist</th>\n",
       "      <th>genre</th>\n",
       "      <th>City</th>\n",
       "      <th>time</th>\n",
       "      <th>Day</th>\n",
       "    </tr>\n",
       "  </thead>\n",
       "  <tbody>\n",
       "    <tr>\n",
       "      <th>0</th>\n",
       "      <td>FFB692EC</td>\n",
       "      <td>Kamigata To Boots</td>\n",
       "      <td>The Mass Missile</td>\n",
       "      <td>rock</td>\n",
       "      <td>Shelbyville</td>\n",
       "      <td>20:28:33</td>\n",
       "      <td>Wednesday</td>\n",
       "    </tr>\n",
       "    <tr>\n",
       "      <th>1</th>\n",
       "      <td>55204538</td>\n",
       "      <td>Delayed Because of Accident</td>\n",
       "      <td>Andreas Rönnberg</td>\n",
       "      <td>rock</td>\n",
       "      <td>Springfield</td>\n",
       "      <td>14:07:09</td>\n",
       "      <td>Friday</td>\n",
       "    </tr>\n",
       "    <tr>\n",
       "      <th>2</th>\n",
       "      <td>20EC38</td>\n",
       "      <td>Funiculì funiculà</td>\n",
       "      <td>Mario Lanza</td>\n",
       "      <td>pop</td>\n",
       "      <td>Shelbyville</td>\n",
       "      <td>20:58:07</td>\n",
       "      <td>Wednesday</td>\n",
       "    </tr>\n",
       "    <tr>\n",
       "      <th>3</th>\n",
       "      <td>A3DD03C9</td>\n",
       "      <td>Dragons in the Sunset</td>\n",
       "      <td>Fire + Ice</td>\n",
       "      <td>folk</td>\n",
       "      <td>Shelbyville</td>\n",
       "      <td>08:37:09</td>\n",
       "      <td>Monday</td>\n",
       "    </tr>\n",
       "    <tr>\n",
       "      <th>4</th>\n",
       "      <td>E2DC1FAE</td>\n",
       "      <td>Soul People</td>\n",
       "      <td>Space Echo</td>\n",
       "      <td>dance</td>\n",
       "      <td>Springfield</td>\n",
       "      <td>08:34:34</td>\n",
       "      <td>Monday</td>\n",
       "    </tr>\n",
       "    <tr>\n",
       "      <th>5</th>\n",
       "      <td>842029A1</td>\n",
       "      <td>Chains</td>\n",
       "      <td>Obladaet</td>\n",
       "      <td>rusrap</td>\n",
       "      <td>Shelbyville</td>\n",
       "      <td>13:09:41</td>\n",
       "      <td>Friday</td>\n",
       "    </tr>\n",
       "    <tr>\n",
       "      <th>6</th>\n",
       "      <td>4CB90AA5</td>\n",
       "      <td>True</td>\n",
       "      <td>Roman Messer</td>\n",
       "      <td>dance</td>\n",
       "      <td>Springfield</td>\n",
       "      <td>13:00:07</td>\n",
       "      <td>Wednesday</td>\n",
       "    </tr>\n",
       "    <tr>\n",
       "      <th>7</th>\n",
       "      <td>F03E1C1F</td>\n",
       "      <td>Feeling This Way</td>\n",
       "      <td>Polina Griffith</td>\n",
       "      <td>dance</td>\n",
       "      <td>Springfield</td>\n",
       "      <td>20:47:49</td>\n",
       "      <td>Wednesday</td>\n",
       "    </tr>\n",
       "    <tr>\n",
       "      <th>8</th>\n",
       "      <td>8FA1D3BE</td>\n",
       "      <td>L’estate</td>\n",
       "      <td>Julia Dalia</td>\n",
       "      <td>ruspop</td>\n",
       "      <td>Springfield</td>\n",
       "      <td>09:17:40</td>\n",
       "      <td>Friday</td>\n",
       "    </tr>\n",
       "    <tr>\n",
       "      <th>9</th>\n",
       "      <td>E772D5C0</td>\n",
       "      <td>Pessimist</td>\n",
       "      <td>NaN</td>\n",
       "      <td>dance</td>\n",
       "      <td>Shelbyville</td>\n",
       "      <td>21:20:49</td>\n",
       "      <td>Wednesday</td>\n",
       "    </tr>\n",
       "  </tbody>\n",
       "</table>\n",
       "</div>"
      ],
      "text/plain": [
       "     userID                        Track            artist   genre  \\\n",
       "0  FFB692EC            Kamigata To Boots  The Mass Missile    rock   \n",
       "1  55204538  Delayed Because of Accident  Andreas Rönnberg    rock   \n",
       "2    20EC38            Funiculì funiculà       Mario Lanza     pop   \n",
       "3  A3DD03C9        Dragons in the Sunset        Fire + Ice    folk   \n",
       "4  E2DC1FAE                  Soul People        Space Echo   dance   \n",
       "5  842029A1                       Chains          Obladaet  rusrap   \n",
       "6  4CB90AA5                         True      Roman Messer   dance   \n",
       "7  F03E1C1F             Feeling This Way   Polina Griffith   dance   \n",
       "8  8FA1D3BE                     L’estate       Julia Dalia  ruspop   \n",
       "9  E772D5C0                    Pessimist               NaN   dance   \n",
       "\n",
       "        City        time        Day  \n",
       "0  Shelbyville  20:28:33  Wednesday  \n",
       "1  Springfield  14:07:09     Friday  \n",
       "2  Shelbyville  20:58:07  Wednesday  \n",
       "3  Shelbyville  08:37:09     Monday  \n",
       "4  Springfield  08:34:34     Monday  \n",
       "5  Shelbyville  13:09:41     Friday  \n",
       "6  Springfield  13:00:07  Wednesday  \n",
       "7  Springfield  20:47:49  Wednesday  \n",
       "8  Springfield  09:17:40     Friday  \n",
       "9  Shelbyville  21:20:49  Wednesday  "
      ]
     },
     "execution_count": 3,
     "metadata": {},
     "output_type": "execute_result"
    }
   ],
   "source": [
    "# Obtener las 10 primeras filas de la tabla df\n",
    "df.head(10)"
   ]
  },
  {
   "cell_type": "markdown",
   "metadata": {},
   "source": [
    "<div class=\"alert alert-block alert-danger\">\n",
    "<b>Comentario del revisor</b> <a class=\"tocSkip\"></a>\n",
    "\n",
    "Esta bien. Pero en este caso remplaza el print() y utiliza el metodo sin nada (llamalo solo). Es decir llamas a la variable y al metodo correspondiente y ejecutas.\n",
    "\n",
    "- *El ejemplo seria: nombre_df.metodo(10)*\n",
    "\n",
    "Esto hara que sea mas legible y estetico.</div>\n",
    "\n",
    "<div class=\"alert alert-block alert-success\">\n",
    "<b>Comentario del revisor #2</b> <a class=\"tocSkip\"></a>\n",
    "\n",
    "Corregido.\n",
    "</div>"
   ]
  },
  {
   "cell_type": "markdown",
   "metadata": {
    "id": "EO73Kwic_Zct"
   },
   "source": [
    "Obtén la información general sobre la tabla con un comando. Conoces el método que muestra la información general que necesitamos."
   ]
  },
  {
   "cell_type": "code",
   "execution_count": 4,
   "metadata": {
    "id": "DSf2kIb-_Zct"
   },
   "outputs": [
    {
     "name": "stdout",
     "output_type": "stream",
     "text": [
      "<class 'pandas.core.frame.DataFrame'>\n",
      "RangeIndex: 65079 entries, 0 to 65078\n",
      "Data columns (total 7 columns):\n",
      " #   Column    Non-Null Count  Dtype \n",
      "---  ------    --------------  ----- \n",
      " 0     userID  65079 non-null  object\n",
      " 1   Track     63736 non-null  object\n",
      " 2   artist    57512 non-null  object\n",
      " 3   genre     63881 non-null  object\n",
      " 4     City    65079 non-null  object\n",
      " 5   time      65079 non-null  object\n",
      " 6   Day       65079 non-null  object\n",
      "dtypes: object(7)\n",
      "memory usage: 3.5+ MB\n",
      "None\n"
     ]
    }
   ],
   "source": [
    "# Obtener la información general sobre nuestros datos\n",
    "print(df.info())"
   ]
  },
  {
   "cell_type": "markdown",
   "metadata": {
    "id": "TaQ2Iwbr_Zct"
   },
   "source": [
    "Estas son nuestras observaciones sobre la tabla. Contiene siete columnas. Almacenan los mismos tipos de datos: `object`.\n",
    "\n",
    "Según la documentación:\n",
    "- `' userID'`: identificador del usuario o la usuaria;\n",
    "- `'Track'`: título de la canción;\n",
    "- `'artist'`: nombre del artista;\n",
    "- `'genre'`: género de la pista;\n",
    "- `'City'`: ciudad del usuario o la usuaria;\n",
    "- `'time'`: la hora exacta en la que se reprodujo la canción;\n",
    "- `'Day'`: día de la semana.\n",
    "\n",
    "Podemos ver tres problemas con el estilo en los encabezados de la tabla:\n",
    "1. Algunos encabezados están en mayúsculas, otros en minúsculas.\n",
    "2. Hay espacios en algunos encabezados.\n",
    "3. **No se usa el \"_\" para separa las palabras**.\n",
    "\n",
    "\n",
    "\n"
   ]
  },
  {
   "cell_type": "markdown",
   "metadata": {
    "id": "MCB6-dXG_Zct"
   },
   "source": [
    "### Escribe observaciones de tu parte. \n",
    "**Estas son algunas de las preguntas que pueden ser útiles:**\n",
    "\n",
    "\n",
    "\n",
    "`1.   ¿Qué tipo de datos tenemos a nuestra disposición en las filas? ¿Y cómo podemos entender lo que almacenan las columnas?`\n",
    "\n",
    "`2.   ¿Hay suficientes datos para proporcionar respuestas a nuestra hipótesis o necesitamos más información?`\n",
    "\n",
    "`3.   ¿Notaste algún problema en los datos, como valores ausentes, duplicados o tipos de datos incorrectos?`"
   ]
  },
  {
   "cell_type": "markdown",
   "metadata": {},
   "source": [
    "#### Respuesta:\n",
    "\n",
    "1. Todos los datos de las calumnas del DataFrame son \"object\" y los nombres de las columnas indicas el tipo de dato que almacenan \n",
    "2. Hay 65079 datos, por lo que si se pueden hacer hipoteisis basados en esta informacion, incluso despues de hacer  la limpieza dee datos.\n",
    "2. Todos los datos de las celdas son correctos, se puede evidenciar filas duplicadas y ausencia de valores en las columnas `'Track'`,`'artist'`y`'genre'`"
   ]
  },
  {
   "cell_type": "markdown",
   "metadata": {},
   "source": [
    "<div class=\"alert alert-block alert-success\">\n",
    "<b>Comentario del revisor</b> <a class=\"tocSkip\"></a>\n",
    "\n",
    "Excelentes observaciones.</div>"
   ]
  },
  {
   "cell_type": "markdown",
   "metadata": {
    "id": "3eL__vcwViOi"
   },
   "source": [
    "[Volver a Contenidos](#back)"
   ]
  },
  {
   "cell_type": "markdown",
   "metadata": {
    "id": "SjYF6Ub9_Zct"
   },
   "source": [
    "## Etapa 2. Preprocesamiento de datos <a id='data_preprocessing'></a>\n",
    "\n",
    "El objetivo aquí es preparar los datos para que sean analizados.\n",
    "El primer paso es resolver cualquier problema con los encabezados. Luego podemos avanzar a los valores ausentes y duplicados. Empecemos.\n",
    "\n",
    "Corrige el formato en los encabezados de la tabla.\n"
   ]
  },
  {
   "cell_type": "markdown",
   "metadata": {
    "id": "dIaKXr29_Zct"
   },
   "source": [
    "### Estilo del encabezado <a id='header_style'></a>\n",
    "Muestra los encabezados de la tabla (los nombres de las columnas):"
   ]
  },
  {
   "cell_type": "code",
   "execution_count": 5,
   "metadata": {
    "id": "oKOTdF_Q_Zct"
   },
   "outputs": [
    {
     "name": "stdout",
     "output_type": "stream",
     "text": [
      "Index(['  userID', 'Track', 'artist', 'genre', '  City  ', 'time', 'Day'], dtype='object')\n"
     ]
    }
   ],
   "source": [
    "columns = df.columns# Muestra los nombres de las columnas\n",
    "print (columns)"
   ]
  },
  {
   "cell_type": "markdown",
   "metadata": {
    "id": "zj5534cv_Zct"
   },
   "source": [
    "Cambia los encabezados de la tabla de acuerdo con las reglas del buen estilo:\n",
    "* Todos los caracteres deben ser minúsculas.\n",
    "* Elimina los espacios.\n",
    "* Si el nombre tiene varias palabras, utiliza snake_case."
   ]
  },
  {
   "cell_type": "markdown",
   "metadata": {
    "id": "Xu0zkfe5zNJe"
   },
   "source": [
    "Anteriormente, aprendiste acerca de la forma automática de cambiar el nombre de las columnas. Vamos a aplicarla ahora. Utiliza el bucle for para iterar sobre los nombres de las columnas y poner todos los caracteres en minúsculas. Cuando hayas terminado, vuelve a mostrar los encabezados de la tabla:"
   ]
  },
  {
   "cell_type": "code",
   "execution_count": 6,
   "metadata": {
    "id": "6I_RwwMhzM4e"
   },
   "outputs": [
    {
     "name": "stdout",
     "output_type": "stream",
     "text": [
      "['  userid', 'track', 'artist', 'genre', '  city  ', 'time', 'day']\n"
     ]
    }
   ],
   "source": [
    "new_columns = []\n",
    "for lower in columns:\n",
    "    lowered = lower.lower()\n",
    "    new_columns.append(lowered)\n",
    "new_columns = new_columns    # Bucle en los encabezados poniendo todo en minúsculas\n",
    "    \n",
    "print(new_columns)"
   ]
  },
  {
   "cell_type": "markdown",
   "metadata": {
    "id": "pweIRxjSzPYW"
   },
   "source": [
    "Ahora, utilizando el mismo método, elimina los espacios al principio y al final de los nombres de las columnas e imprime los nombres de las columnas nuevamente:"
   ]
  },
  {
   "cell_type": "code",
   "execution_count": 7,
   "metadata": {
    "id": "vVQXbFyJzSYl"
   },
   "outputs": [
    {
     "name": "stdout",
     "output_type": "stream",
     "text": [
      "['userid', 'track', 'artist', 'genre', 'city', 'time', 'day']\n"
     ]
    }
   ],
   "source": [
    "new_columns_2 = []\n",
    "for space in new_columns:\n",
    "    spaces = space.strip()\n",
    "    new_columns_2.append(spaces) \n",
    "new_columns_2 = new_columns_2    \n",
    "print (new_columns_2) # Bucle en los encabezados eliminando los espacios\n"
   ]
  },
  {
   "cell_type": "markdown",
   "metadata": {
    "id": "yCb8MW1JzURd"
   },
   "source": [
    "Necesitamos aplicar la regla de snake_case a la columna `userid`. Debe ser `user_id`. Cambia el nombre de esta columna y muestra los nombres de todas las columnas cuando hayas terminado."
   ]
  },
  {
   "cell_type": "code",
   "execution_count": 8,
   "metadata": {
    "id": "ISlFqs5y_Zct"
   },
   "outputs": [
    {
     "name": "stdout",
     "output_type": "stream",
     "text": [
      "Index(['user_id', 'track', 'artist', 'genre', 'city', 'time', 'day'], dtype='object')\n",
      "\n",
      "<class 'pandas.core.frame.DataFrame'>\n",
      "RangeIndex: 65079 entries, 0 to 65078\n",
      "Data columns (total 7 columns):\n",
      " #   Column   Non-Null Count  Dtype \n",
      "---  ------   --------------  ----- \n",
      " 0   user_id  65079 non-null  object\n",
      " 1   track    63736 non-null  object\n",
      " 2   artist   57512 non-null  object\n",
      " 3   genre    63881 non-null  object\n",
      " 4   city     65079 non-null  object\n",
      " 5   time     65079 non-null  object\n",
      " 6   day      65079 non-null  object\n",
      "dtypes: object(7)\n",
      "memory usage: 3.5+ MB\n",
      "None\n"
     ]
    }
   ],
   "source": [
    "df.columns= new_columns_2\n",
    "\n",
    "fin_columns = {\"userid\": \"user_id\"}\n",
    "df.rename(columns=fin_columns, inplace = True)# Cambiar el nombre de la columna \"userid\"\n",
    "\n",
    "print (df.columns)\n",
    "print()\n",
    "print(df.info())"
   ]
  },
  {
   "cell_type": "markdown",
   "metadata": {
    "id": "1dqbh00J_Zct"
   },
   "source": [
    "Comprueba el resultado. Muestra los encabezados una vez más:"
   ]
  },
  {
   "cell_type": "code",
   "execution_count": 9,
   "metadata": {
    "id": "d4NOAmTW_Zct"
   },
   "outputs": [
    {
     "name": "stdout",
     "output_type": "stream",
     "text": [
      "Index(['user_id', 'track', 'artist', 'genre', 'city', 'time', 'day'], dtype='object')\n"
     ]
    }
   ],
   "source": [
    "print (df.columns)# Comprobar el resultado: la lista de encabezados\n"
   ]
  },
  {
   "cell_type": "markdown",
   "metadata": {
    "id": "xYJk6ksJVpOl"
   },
   "source": [
    "[Volver a Contenidos](#back)"
   ]
  },
  {
   "cell_type": "markdown",
   "metadata": {},
   "source": [
    "<div class=\"alert alert-block alert-success\">\n",
    "<b>Comentario del revisor</b> <a class=\"tocSkip\"></a>\n",
    "\n",
    "Muy bien cambiando los encabezados.</div>"
   ]
  },
  {
   "cell_type": "markdown",
   "metadata": {
    "id": "5ISfbcfY_Zct"
   },
   "source": [
    "### Valores ausentes <a id='missing_values'></a>\n",
    " Primero, encuentra el número de valores ausentes en la tabla. Debes utilizar dos métodos en una secuencia para obtener el número de valores ausentes."
   ]
  },
  {
   "cell_type": "code",
   "execution_count": 10,
   "metadata": {
    "id": "RskX29qr_Zct"
   },
   "outputs": [
    {
     "name": "stdout",
     "output_type": "stream",
     "text": [
      "user_id       0\n",
      "track      1343\n",
      "artist     7567\n",
      "genre      1198\n",
      "city          0\n",
      "time          0\n",
      "day           0\n",
      "dtype: int64\n"
     ]
    }
   ],
   "source": [
    "print(df.isna().sum())# Calcular el número de valores ausentes\n"
   ]
  },
  {
   "cell_type": "markdown",
   "metadata": {
    "id": "qubhgnlO_Zct"
   },
   "source": [
    "No todos los valores ausentes afectan a la investigación. Por ejemplo, los valores ausentes en `track` y `artist` no son cruciales. Simplemente puedes reemplazarlos con valores predeterminados como el string `'unknown'` (desconocido).\n",
    "\n",
    "Pero los valores ausentes en `'genre'` pueden afectar la comparación entre las preferencias musicales de Springfield y Shelbyville. En la vida real, sería útil saber las razones por las cuales hay datos ausentes e intentar recuperarlos. Pero no tenemos esa oportunidad en este proyecto. Así que tendrás que:\n",
    "* rellenar estos valores ausentes con un valor predeterminado;\n",
    "* evaluar cuánto podrían afectar los valores ausentes a tus cómputos;"
   ]
  },
  {
   "cell_type": "markdown",
   "metadata": {
    "id": "fSv2laPA_Zct"
   },
   "source": [
    "Reemplazar los valores ausentes en las columnas `'track'`, `'artist'` y `'genre'` con el string `'unknown'`. Como mostramos anteriormente en las lecciones, la mejor forma de hacerlo es crear una lista que almacene los nombres de las columnas donde se necesita el reemplazo. Luego, utiliza esta lista e itera sobre las columnas donde se necesita el reemplazo haciendo el propio reemplazo."
   ]
  },
  {
   "cell_type": "code",
   "execution_count": 11,
   "metadata": {
    "id": "KplB5qWs_Zct"
   },
   "outputs": [
    {
     "name": "stdout",
     "output_type": "stream",
     "text": [
      "<class 'pandas.core.frame.DataFrame'>\n",
      "RangeIndex: 65079 entries, 0 to 65078\n",
      "Data columns (total 7 columns):\n",
      " #   Column   Non-Null Count  Dtype \n",
      "---  ------   --------------  ----- \n",
      " 0   user_id  65079 non-null  object\n",
      " 1   track    65079 non-null  object\n",
      " 2   artist   65079 non-null  object\n",
      " 3   genre    65079 non-null  object\n",
      " 4   city     65079 non-null  object\n",
      " 5   time     65079 non-null  object\n",
      " 6   day      65079 non-null  object\n",
      "dtypes: object(7)\n",
      "memory usage: 3.5+ MB\n"
     ]
    }
   ],
   "source": [
    "replace = [\"track\",\"artist\"]\n",
    "replace_1 =[\"genre\"]\n",
    "for new in replace:\n",
    "    df[new].fillna(\"unknown\",inplace = True)# Bucle en los encabezados reemplazando los valores ausentes con 'unknown'\n",
    "for new_1 in replace_1:\n",
    "    df[new_1].fillna(\"generic\",inplace = True)\n",
    "\n",
    "df.info()"
   ]
  },
  {
   "cell_type": "markdown",
   "metadata": {},
   "source": [
    "**Los valores ausentes de la columna \"genero\" son 1.198, que signica 1,84% del total de los datos, podrian tomarse como un margen de error, sin embargo tenerlos en cuenta para los calculos.**"
   ]
  },
  {
   "cell_type": "markdown",
   "metadata": {
    "id": "Ilsm-MZo_Zct"
   },
   "source": [
    "Ahora comprueba el resultado para asegurarte de que después del reemplazo no haya valores ausentes en el conjunto de datos. Para hacer esto, cuenta los valores ausentes nuevamente."
   ]
  },
  {
   "cell_type": "code",
   "execution_count": 12,
   "metadata": {
    "id": "Tq4nYRX4_Zct"
   },
   "outputs": [
    {
     "name": "stdout",
     "output_type": "stream",
     "text": [
      "<class 'pandas.core.frame.DataFrame'>\n",
      "RangeIndex: 65079 entries, 0 to 65078\n",
      "Data columns (total 7 columns):\n",
      " #   Column   Non-Null Count  Dtype \n",
      "---  ------   --------------  ----- \n",
      " 0   user_id  65079 non-null  object\n",
      " 1   track    65079 non-null  object\n",
      " 2   artist   65079 non-null  object\n",
      " 3   genre    65079 non-null  object\n",
      " 4   city     65079 non-null  object\n",
      " 5   time     65079 non-null  object\n",
      " 6   day      65079 non-null  object\n",
      "dtypes: object(7)\n",
      "memory usage: 3.5+ MB\n",
      "None\n"
     ]
    }
   ],
   "source": [
    "print(df.info())# Contar valores ausentes\n"
   ]
  },
  {
   "cell_type": "markdown",
   "metadata": {},
   "source": [
    "<div class=\"alert alert-block alert-success\">\n",
    "\n",
    "<b>Comentario del revisor</b> <a class=\"tocSkip\"></a>\n",
    "\n",
    "Buen bucle para remplazar los nulos.</div>"
   ]
  },
  {
   "cell_type": "markdown",
   "metadata": {
    "id": "74ZIBmq9VrsK"
   },
   "source": [
    "[Volver a Contenidos](#back)"
   ]
  },
  {
   "cell_type": "markdown",
   "metadata": {
    "id": "BWKRtBJ3_Zct"
   },
   "source": [
    "### Duplicados <a id='duplicates'></a>\n",
    "Encuentra el número de duplicados explícitos en la tabla. Una vez más, debes aplicar dos métodos en una secuencia para obtener la cantidad de duplicados explícitos."
   ]
  },
  {
   "cell_type": "code",
   "execution_count": 13,
   "metadata": {
    "id": "36eES_S0_Zct"
   },
   "outputs": [
    {
     "name": "stdout",
     "output_type": "stream",
     "text": [
      "3826\n"
     ]
    }
   ],
   "source": [
    "print(df.duplicated().sum())# Contar duplicados explícitos\n"
   ]
  },
  {
   "cell_type": "markdown",
   "metadata": {
    "id": "Ot25h6XR_Zct"
   },
   "source": [
    "Ahora, elimina todos los duplicados. Para ello, llama al método que hace exactamente esto."
   ]
  },
  {
   "cell_type": "code",
   "execution_count": 14,
   "metadata": {
    "id": "exFHq6tt_Zct"
   },
   "outputs": [],
   "source": [
    "df = df.drop_duplicates()\n",
    "# Eliminar duplicados explícitos\n"
   ]
  },
  {
   "cell_type": "markdown",
   "metadata": {
    "id": "Im2YwBEG_Zct"
   },
   "source": [
    "Comprobemos ahora si eliminamos con éxito todos los duplicados. Cuenta los duplicados explícitos una vez más para asegurarte de haberlos eliminado todos:"
   ]
  },
  {
   "cell_type": "code",
   "execution_count": 15,
   "metadata": {
    "id": "-8PuNWQ0_Zct"
   },
   "outputs": [
    {
     "name": "stdout",
     "output_type": "stream",
     "text": [
      "0\n"
     ]
    }
   ],
   "source": [
    "print(df.duplicated().sum())# Comprobar de nuevo si hay duplicados\n"
   ]
  },
  {
   "cell_type": "markdown",
   "metadata": {
    "id": "QlFBsxAr_Zct"
   },
   "source": [
    "Ahora queremos deshacernos de los duplicados implícitos en la columna `genre`. Por ejemplo, el nombre de un género se puede escribir de varias formas. Dichos errores también pueden afectar al resultado."
   ]
  },
  {
   "cell_type": "markdown",
   "metadata": {
    "id": "eSjWwsOh_Zct"
   },
   "source": [
    "Para hacerlo, primero mostremos una lista de nombres de género únicos, ordenados en orden alfabético. Para ello:\n",
    "* Extrae la columna `genre` del DataFrame.\n",
    "* Llama al método que devolverá todos los valores únicos en la columna extraída.\n"
   ]
  },
  {
   "cell_type": "code",
   "execution_count": 16,
   "metadata": {
    "id": "JIUcqzZN_Zct"
   },
   "outputs": [
    {
     "name": "stdout",
     "output_type": "stream",
     "text": [
      "['acid' 'acoustic' 'action' 'adult' 'africa' 'afrikaans' 'alternative'\n",
      " 'ambient' 'americana' 'animated' 'anime' 'arabesk' 'arabic' 'arena'\n",
      " 'argentinetango' 'art' 'audiobook' 'avantgarde' 'axé' 'baile' 'balkan'\n",
      " 'beats' 'bigroom' 'black' 'bluegrass' 'blues' 'bollywood' 'bossa'\n",
      " 'brazilian' 'breakbeat' 'breaks' 'broadway' 'cantautori' 'cantopop'\n",
      " 'canzone' 'caribbean' 'caucasian' 'celtic' 'chamber' 'children' 'chill'\n",
      " 'chinese' 'choral' 'christian' 'christmas' 'classical' 'classicmetal'\n",
      " 'club' 'colombian' 'comedy' 'conjazz' 'contemporary' 'country' 'cuban'\n",
      " 'dance' 'dancehall' 'dancepop' 'dark' 'death' 'deep' 'deutschrock'\n",
      " 'deutschspr' 'dirty' 'disco' 'dnb' 'documentary' 'downbeat' 'downtempo'\n",
      " 'drum' 'dub' 'dubstep' 'eastern' 'easy' 'electronic' 'electropop' 'emo'\n",
      " 'entehno' 'epicmetal' 'estrada' 'ethnic' 'eurofolk' 'european'\n",
      " 'experimental' 'extrememetal' 'fado' 'film' 'fitness' 'flamenco' 'folk'\n",
      " 'folklore' 'folkmetal' 'folkrock' 'folktronica' 'forró' 'frankreich'\n",
      " 'französisch' 'french' 'funk' 'future' 'gangsta' 'garage' 'generic'\n",
      " 'german' 'ghazal' 'gitarre' 'glitch' 'gospel' 'gothic' 'grime' 'grunge'\n",
      " 'gypsy' 'handsup' \"hard'n'heavy\" 'hardcore' 'hardstyle' 'hardtechno'\n",
      " 'hip' 'hip-hop' 'hiphop' 'historisch' 'holiday' 'hop' 'horror' 'house'\n",
      " 'idm' 'independent' 'indian' 'indie' 'indipop' 'industrial'\n",
      " 'inspirational' 'instrumental' 'international' 'irish' 'jam' 'japanese'\n",
      " 'jazz' 'jewish' 'jpop' 'jungle' 'k-pop' 'karadeniz' 'karaoke' 'kayokyoku'\n",
      " 'korean' 'laiko' 'latin' 'latino' 'leftfield' 'local' 'lounge'\n",
      " 'loungeelectronic' 'lovers' 'malaysian' 'mandopop' 'marschmusik'\n",
      " 'meditative' 'mediterranean' 'melodic' 'metal' 'metalcore' 'mexican'\n",
      " 'middle' 'minimal' 'miscellaneous' 'modern' 'mood' 'mpb' 'muslim'\n",
      " 'native' 'neoklassik' 'neue' 'new' 'newage' 'newwave' 'nu' 'nujazz'\n",
      " 'numetal' 'oceania' 'old' 'opera' 'orchestral' 'other' 'piano' 'pop'\n",
      " 'popelectronic' 'popeurodance' 'post' 'posthardcore' 'postrock' 'power'\n",
      " 'progmetal' 'progressive' 'psychedelic' 'punjabi' 'punk' 'quebecois'\n",
      " 'ragga' 'ram' 'rancheras' 'rap' 'rave' 'reggae' 'reggaeton' 'regional'\n",
      " 'relax' 'religious' 'retro' 'rhythm' 'rnb' 'rnr' 'rock' 'rockabilly'\n",
      " 'romance' 'roots' 'ruspop' 'rusrap' 'rusrock' 'salsa' 'samba' 'schlager'\n",
      " 'self' 'sertanejo' 'shoegazing' 'showtunes' 'singer' 'ska' 'slow'\n",
      " 'smooth' 'soul' 'soulful' 'sound' 'soundtrack' 'southern' 'specialty'\n",
      " 'speech' 'spiritual' 'sport' 'stonerrock' 'surf' 'swing' 'synthpop'\n",
      " 'sängerportrait' 'tango' 'tanzorchester' 'taraftar' 'tech' 'techno'\n",
      " 'thrash' 'top' 'traditional' 'tradjazz' 'trance' 'tribal' 'trip'\n",
      " 'triphop' 'tropical' 'türk' 'türkçe' 'urban' 'uzbek' 'variété' 'vi'\n",
      " 'videogame' 'vocal' 'western' 'world' 'worldbeat' 'ïîï']\n"
     ]
    }
   ],
   "source": [
    "print(df[\"genre\"].sort_values().unique())# Inspeccionar los nombres de géneros únicos\n"
   ]
  },
  {
   "cell_type": "markdown",
   "metadata": {},
   "source": [
    "<div class=\"alert alert-block alert-success\">\n",
    "<b>Comentario del revisor</b> <a class=\"tocSkip\"></a>\n",
    "\n",
    "Muy bien. Como consejo extra, contando la cantidad de elementos unicos - nunique() - que tenemos (antes y despues) es  un parametro para verificar si el error esta corregido o no.\n",
    "\n",
    "Si tengo menos registros que antes estara corregido.</div>"
   ]
  },
  {
   "cell_type": "markdown",
   "metadata": {
    "id": "qej-Qmuo_Zct"
   },
   "source": [
    "Busca en la lista para encontrar duplicados implícitos del género `hiphop`. Estos pueden ser nombres escritos incorrectamente o nombres alternativos para el mismo género.\n",
    "\n",
    "Verás los siguientes duplicados implícitos:\n",
    "* `hip`\n",
    "* `hop`\n",
    "* `hip-hop`\n",
    "\n",
    "Para deshacerte de ellos, crea una función llamada `replace_wrong_genres()` con dos parámetros:\n",
    "* `wrong_genres=`: esta es una lista que contiene todos los valores que necesitas reemplazar.\n",
    "* `correct_genre=`: este es un string que vas a utilizar como reemplazo.\n",
    "\n",
    "Como resultado, la función debería corregir los nombres en la columna `'genre'` de la tabla `df`, es decir, remplazar cada valor de la lista `wrong_genres` por el valor en `correct_genre`.\n",
    "\n",
    "Dentro del cuerpo de la función, utiliza un bucle `'for'` para iterar sobre la lista de géneros incorrectos, extrae la columna `'genre'` y aplica el método `replace` para hacer correcciones."
   ]
  },
  {
   "cell_type": "code",
   "execution_count": 17,
   "metadata": {
    "id": "ErNDkmns_Zct"
   },
   "outputs": [],
   "source": [
    "wrong_genres= [\"hip\",\"hop\",\"hip-hop\"]# Función para reemplazar duplicados implícitos\n",
    "correct_genre= \"hiphop\"\n",
    "def replace_wrong_genres(dataframe, column,wrong_genres,correct_genre):\n",
    "    for wrong in wrong_genres:\n",
    "        dataframe[column].replace(wrong_genres,correct_genre,inplace=True)\n",
    "    return df\n",
    "        "
   ]
  },
  {
   "cell_type": "markdown",
   "metadata": {
    "id": "aDoBJxbA_Zct"
   },
   "source": [
    "Ahora, llama a `replace_wrong_genres()` y pásale tales argumentos para que retire los duplicados implícitos (`hip`, `hop` y `hip-hop`) y los reemplace por `hiphop`:"
   ]
  },
  {
   "cell_type": "code",
   "execution_count": 18,
   "metadata": {
    "id": "YN5i2hpmSo09"
   },
   "outputs": [
    {
     "data": {
      "text/html": [
       "<div>\n",
       "<style scoped>\n",
       "    .dataframe tbody tr th:only-of-type {\n",
       "        vertical-align: middle;\n",
       "    }\n",
       "\n",
       "    .dataframe tbody tr th {\n",
       "        vertical-align: top;\n",
       "    }\n",
       "\n",
       "    .dataframe thead th {\n",
       "        text-align: right;\n",
       "    }\n",
       "</style>\n",
       "<table border=\"1\" class=\"dataframe\">\n",
       "  <thead>\n",
       "    <tr style=\"text-align: right;\">\n",
       "      <th></th>\n",
       "      <th>user_id</th>\n",
       "      <th>track</th>\n",
       "      <th>artist</th>\n",
       "      <th>genre</th>\n",
       "      <th>city</th>\n",
       "      <th>time</th>\n",
       "      <th>day</th>\n",
       "    </tr>\n",
       "  </thead>\n",
       "  <tbody>\n",
       "    <tr>\n",
       "      <th>0</th>\n",
       "      <td>FFB692EC</td>\n",
       "      <td>Kamigata To Boots</td>\n",
       "      <td>The Mass Missile</td>\n",
       "      <td>rock</td>\n",
       "      <td>Shelbyville</td>\n",
       "      <td>20:28:33</td>\n",
       "      <td>Wednesday</td>\n",
       "    </tr>\n",
       "    <tr>\n",
       "      <th>1</th>\n",
       "      <td>55204538</td>\n",
       "      <td>Delayed Because of Accident</td>\n",
       "      <td>Andreas Rönnberg</td>\n",
       "      <td>rock</td>\n",
       "      <td>Springfield</td>\n",
       "      <td>14:07:09</td>\n",
       "      <td>Friday</td>\n",
       "    </tr>\n",
       "    <tr>\n",
       "      <th>2</th>\n",
       "      <td>20EC38</td>\n",
       "      <td>Funiculì funiculà</td>\n",
       "      <td>Mario Lanza</td>\n",
       "      <td>pop</td>\n",
       "      <td>Shelbyville</td>\n",
       "      <td>20:58:07</td>\n",
       "      <td>Wednesday</td>\n",
       "    </tr>\n",
       "    <tr>\n",
       "      <th>3</th>\n",
       "      <td>A3DD03C9</td>\n",
       "      <td>Dragons in the Sunset</td>\n",
       "      <td>Fire + Ice</td>\n",
       "      <td>folk</td>\n",
       "      <td>Shelbyville</td>\n",
       "      <td>08:37:09</td>\n",
       "      <td>Monday</td>\n",
       "    </tr>\n",
       "    <tr>\n",
       "      <th>4</th>\n",
       "      <td>E2DC1FAE</td>\n",
       "      <td>Soul People</td>\n",
       "      <td>Space Echo</td>\n",
       "      <td>dance</td>\n",
       "      <td>Springfield</td>\n",
       "      <td>08:34:34</td>\n",
       "      <td>Monday</td>\n",
       "    </tr>\n",
       "    <tr>\n",
       "      <th>...</th>\n",
       "      <td>...</td>\n",
       "      <td>...</td>\n",
       "      <td>...</td>\n",
       "      <td>...</td>\n",
       "      <td>...</td>\n",
       "      <td>...</td>\n",
       "      <td>...</td>\n",
       "    </tr>\n",
       "    <tr>\n",
       "      <th>65074</th>\n",
       "      <td>729CBB09</td>\n",
       "      <td>My Name</td>\n",
       "      <td>McLean</td>\n",
       "      <td>rnb</td>\n",
       "      <td>Springfield</td>\n",
       "      <td>13:32:28</td>\n",
       "      <td>Wednesday</td>\n",
       "    </tr>\n",
       "    <tr>\n",
       "      <th>65075</th>\n",
       "      <td>D08D4A55</td>\n",
       "      <td>Maybe One Day (feat. Black Spade)</td>\n",
       "      <td>Blu &amp; Exile</td>\n",
       "      <td>hiphop</td>\n",
       "      <td>Shelbyville</td>\n",
       "      <td>10:00:00</td>\n",
       "      <td>Monday</td>\n",
       "    </tr>\n",
       "    <tr>\n",
       "      <th>65076</th>\n",
       "      <td>C5E3A0D5</td>\n",
       "      <td>Jalopiina</td>\n",
       "      <td>unknown</td>\n",
       "      <td>industrial</td>\n",
       "      <td>Springfield</td>\n",
       "      <td>20:09:26</td>\n",
       "      <td>Friday</td>\n",
       "    </tr>\n",
       "    <tr>\n",
       "      <th>65077</th>\n",
       "      <td>321D0506</td>\n",
       "      <td>Freight Train</td>\n",
       "      <td>Chas McDevitt</td>\n",
       "      <td>rock</td>\n",
       "      <td>Springfield</td>\n",
       "      <td>21:43:59</td>\n",
       "      <td>Friday</td>\n",
       "    </tr>\n",
       "    <tr>\n",
       "      <th>65078</th>\n",
       "      <td>3A64EF84</td>\n",
       "      <td>Tell Me Sweet Little Lies</td>\n",
       "      <td>Monica Lopez</td>\n",
       "      <td>country</td>\n",
       "      <td>Springfield</td>\n",
       "      <td>21:59:46</td>\n",
       "      <td>Friday</td>\n",
       "    </tr>\n",
       "  </tbody>\n",
       "</table>\n",
       "<p>61253 rows × 7 columns</p>\n",
       "</div>"
      ],
      "text/plain": [
       "        user_id                              track            artist  \\\n",
       "0      FFB692EC                  Kamigata To Boots  The Mass Missile   \n",
       "1      55204538        Delayed Because of Accident  Andreas Rönnberg   \n",
       "2        20EC38                  Funiculì funiculà       Mario Lanza   \n",
       "3      A3DD03C9              Dragons in the Sunset        Fire + Ice   \n",
       "4      E2DC1FAE                        Soul People        Space Echo   \n",
       "...         ...                                ...               ...   \n",
       "65074  729CBB09                            My Name            McLean   \n",
       "65075  D08D4A55  Maybe One Day (feat. Black Spade)       Blu & Exile   \n",
       "65076  C5E3A0D5                          Jalopiina           unknown   \n",
       "65077  321D0506                      Freight Train     Chas McDevitt   \n",
       "65078  3A64EF84          Tell Me Sweet Little Lies      Monica Lopez   \n",
       "\n",
       "            genre         city      time        day  \n",
       "0            rock  Shelbyville  20:28:33  Wednesday  \n",
       "1            rock  Springfield  14:07:09     Friday  \n",
       "2             pop  Shelbyville  20:58:07  Wednesday  \n",
       "3            folk  Shelbyville  08:37:09     Monday  \n",
       "4           dance  Springfield  08:34:34     Monday  \n",
       "...           ...          ...       ...        ...  \n",
       "65074         rnb  Springfield  13:32:28  Wednesday  \n",
       "65075      hiphop  Shelbyville  10:00:00     Monday  \n",
       "65076  industrial  Springfield  20:09:26     Friday  \n",
       "65077        rock  Springfield  21:43:59     Friday  \n",
       "65078     country  Springfield  21:59:46     Friday  \n",
       "\n",
       "[61253 rows x 7 columns]"
      ]
     },
     "execution_count": 18,
     "metadata": {},
     "output_type": "execute_result"
    }
   ],
   "source": [
    "replace_wrong_genres(df,\"genre\",wrong_genres,correct_genre)\n",
    "\n",
    "# Eliminar duplicados implícitos\n"
   ]
  },
  {
   "cell_type": "markdown",
   "metadata": {
    "id": "zQKF16_RG15m"
   },
   "source": [
    "Asegúrate de que los nombres duplicados han sido eliminados. Muestra la lista de valores únicos de la columna `'genre'` una vez más:"
   ]
  },
  {
   "cell_type": "code",
   "execution_count": 19,
   "metadata": {
    "id": "wvixALnFG15m"
   },
   "outputs": [
    {
     "name": "stdout",
     "output_type": "stream",
     "text": [
      "['acid' 'acoustic' 'action' 'adult' 'africa' 'afrikaans' 'alternative'\n",
      " 'ambient' 'americana' 'animated' 'anime' 'arabesk' 'arabic' 'arena'\n",
      " 'argentinetango' 'art' 'audiobook' 'avantgarde' 'axé' 'baile' 'balkan'\n",
      " 'beats' 'bigroom' 'black' 'bluegrass' 'blues' 'bollywood' 'bossa'\n",
      " 'brazilian' 'breakbeat' 'breaks' 'broadway' 'cantautori' 'cantopop'\n",
      " 'canzone' 'caribbean' 'caucasian' 'celtic' 'chamber' 'children' 'chill'\n",
      " 'chinese' 'choral' 'christian' 'christmas' 'classical' 'classicmetal'\n",
      " 'club' 'colombian' 'comedy' 'conjazz' 'contemporary' 'country' 'cuban'\n",
      " 'dance' 'dancehall' 'dancepop' 'dark' 'death' 'deep' 'deutschrock'\n",
      " 'deutschspr' 'dirty' 'disco' 'dnb' 'documentary' 'downbeat' 'downtempo'\n",
      " 'drum' 'dub' 'dubstep' 'eastern' 'easy' 'electronic' 'electropop' 'emo'\n",
      " 'entehno' 'epicmetal' 'estrada' 'ethnic' 'eurofolk' 'european'\n",
      " 'experimental' 'extrememetal' 'fado' 'film' 'fitness' 'flamenco' 'folk'\n",
      " 'folklore' 'folkmetal' 'folkrock' 'folktronica' 'forró' 'frankreich'\n",
      " 'französisch' 'french' 'funk' 'future' 'gangsta' 'garage' 'generic'\n",
      " 'german' 'ghazal' 'gitarre' 'glitch' 'gospel' 'gothic' 'grime' 'grunge'\n",
      " 'gypsy' 'handsup' \"hard'n'heavy\" 'hardcore' 'hardstyle' 'hardtechno'\n",
      " 'hiphop' 'historisch' 'holiday' 'horror' 'house' 'idm' 'independent'\n",
      " 'indian' 'indie' 'indipop' 'industrial' 'inspirational' 'instrumental'\n",
      " 'international' 'irish' 'jam' 'japanese' 'jazz' 'jewish' 'jpop' 'jungle'\n",
      " 'k-pop' 'karadeniz' 'karaoke' 'kayokyoku' 'korean' 'laiko' 'latin'\n",
      " 'latino' 'leftfield' 'local' 'lounge' 'loungeelectronic' 'lovers'\n",
      " 'malaysian' 'mandopop' 'marschmusik' 'meditative' 'mediterranean'\n",
      " 'melodic' 'metal' 'metalcore' 'mexican' 'middle' 'minimal'\n",
      " 'miscellaneous' 'modern' 'mood' 'mpb' 'muslim' 'native' 'neoklassik'\n",
      " 'neue' 'new' 'newage' 'newwave' 'nu' 'nujazz' 'numetal' 'oceania' 'old'\n",
      " 'opera' 'orchestral' 'other' 'piano' 'pop' 'popelectronic' 'popeurodance'\n",
      " 'post' 'posthardcore' 'postrock' 'power' 'progmetal' 'progressive'\n",
      " 'psychedelic' 'punjabi' 'punk' 'quebecois' 'ragga' 'ram' 'rancheras'\n",
      " 'rap' 'rave' 'reggae' 'reggaeton' 'regional' 'relax' 'religious' 'retro'\n",
      " 'rhythm' 'rnb' 'rnr' 'rock' 'rockabilly' 'romance' 'roots' 'ruspop'\n",
      " 'rusrap' 'rusrock' 'salsa' 'samba' 'schlager' 'self' 'sertanejo'\n",
      " 'shoegazing' 'showtunes' 'singer' 'ska' 'slow' 'smooth' 'soul' 'soulful'\n",
      " 'sound' 'soundtrack' 'southern' 'specialty' 'speech' 'spiritual' 'sport'\n",
      " 'stonerrock' 'surf' 'swing' 'synthpop' 'sängerportrait' 'tango'\n",
      " 'tanzorchester' 'taraftar' 'tech' 'techno' 'thrash' 'top' 'traditional'\n",
      " 'tradjazz' 'trance' 'tribal' 'trip' 'triphop' 'tropical' 'türk' 'türkçe'\n",
      " 'urban' 'uzbek' 'variété' 'vi' 'videogame' 'vocal' 'western' 'world'\n",
      " 'worldbeat' 'ïîï']\n"
     ]
    }
   ],
   "source": [
    "# Comprobación de duplicados implícitos\n",
    "print(df[\"genre\"].sort_values().unique())"
   ]
  },
  {
   "cell_type": "markdown",
   "metadata": {},
   "source": [
    "<div class=\"alert alert-block alert-success\">\n",
    "<b>Comentario del revisor</b> <a class=\"tocSkip\"></a>\n",
    "\n",
    "Muy bien.</div>"
   ]
  },
  {
   "cell_type": "markdown",
   "metadata": {},
   "source": [
    "**Organicé los indices de los datos**"
   ]
  },
  {
   "cell_type": "code",
   "execution_count": 20,
   "metadata": {},
   "outputs": [
    {
     "name": "stdout",
     "output_type": "stream",
     "text": [
      "0\n",
      "<class 'pandas.core.frame.DataFrame'>\n",
      "RangeIndex: 61253 entries, 0 to 61252\n",
      "Data columns (total 7 columns):\n",
      " #   Column   Non-Null Count  Dtype \n",
      "---  ------   --------------  ----- \n",
      " 0   user_id  61253 non-null  object\n",
      " 1   track    61253 non-null  object\n",
      " 2   artist   61253 non-null  object\n",
      " 3   genre    61253 non-null  object\n",
      " 4   city     61253 non-null  object\n",
      " 5   time     61253 non-null  object\n",
      " 6   day      61253 non-null  object\n",
      "dtypes: object(7)\n",
      "memory usage: 3.3+ MB\n"
     ]
    }
   ],
   "source": [
    "df=df.reset_index(drop=True)\n",
    "print(df.duplicated().sum())\n",
    "df.info()"
   ]
  },
  {
   "cell_type": "markdown",
   "metadata": {},
   "source": [
    "<div class=\"alert alert-block alert-success\">\n",
    "<b>Comentario del revisor</b> <a class=\"tocSkip\"></a>\n",
    "\n",
    "Perfecto restableciendo el indice.</div>"
   ]
  },
  {
   "cell_type": "markdown",
   "metadata": {
    "id": "ALgNbvF3VtPA"
   },
   "source": [
    "[Volver a Contenidos](#back)"
   ]
  },
  {
   "cell_type": "markdown",
   "metadata": {
    "id": "jz6a9-7HQUDd"
   },
   "source": [
    "### Tus observaciones <a id='data_preprocessing_conclusions'></a>\n",
    "\n",
    "`Describe brevemente lo que has notado al analizar duplicados, cómo abordaste sus eliminaciones y qué resultados obtuviste.`"
   ]
  },
  {
   "cell_type": "markdown",
   "metadata": {},
   "source": [
    "#### Observaciones \n",
    "Se organizaron los datos, hallamos el cantidad de elementos duplicados y se eliminaron 3.826 datos duplicados, ahora vamos atrabajar con 61.253 datos para comprobar las hipotesis y llegar a conclusiones. \n",
    "\n",
    "Adicionalmete se corriegueron algunos valores incorrecto dentro de las celdad que querian indicar el mismo genero. \n",
    "despues de la limpieza de los datos del DataFrame tenemos la cantidad optima para hacer las operaciones.\n"
   ]
  },
  {
   "cell_type": "markdown",
   "metadata": {},
   "source": [
    "<div class=\"alert alert-block alert-success\">\n",
    "<b>Comentario del revisor</b> <a class=\"tocSkip\"></a>\n",
    "\n",
    "Muy buenas observaciones.</div>"
   ]
  },
  {
   "cell_type": "markdown",
   "metadata": {
    "id": "eK1es74rVujj"
   },
   "source": [
    "[Volver a Contenidos](#back)"
   ]
  },
  {
   "cell_type": "markdown",
   "metadata": {
    "id": "WttZHXH0SqKk"
   },
   "source": [
    "## Etapa 3. Prueba de hipótesis <a id='hypothesis'></a>"
   ]
  },
  {
   "cell_type": "markdown",
   "metadata": {
    "id": "Im936VVi_Zcu"
   },
   "source": [
    "### Hipótesis: comparar el comportamiento del usuario o la usuaria en las dos ciudades <a id='activity'></a>"
   ]
  },
  {
   "cell_type": "markdown",
   "metadata": {
    "id": "nwt_MuaL_Zcu"
   },
   "source": [
    "La hipótesis afirma que existen diferencias en la forma en que los usuarios y las usuarias de Springfield y Shelbyville consumen música. Para comprobar esto, usa los datos de tres días de la semana: lunes, miércoles y viernes.\n",
    "\n",
    "* Agrupa a los usuarios y las usuarias por ciudad.\n",
    "* Compara el número de canciones que cada grupo reprodujo el lunes, el miércoles y el viernes.\n"
   ]
  },
  {
   "cell_type": "markdown",
   "metadata": {
    "id": "8Dw_YMmT_Zcu"
   },
   "source": [
    "Realiza cada cálculo por separado.\n",
    "\n",
    "El primer paso es evaluar la actividad del usuario en cada ciudad. Recuerda las etapas dividir-aplicar-combinar de las que hablamos anteriormente en la lección. Tu objetivo ahora es agrupar los datos por ciudad, aplicar el método apropiado para contar durante la etapa de aplicación y luego encontrar la cantidad de canciones reproducidas en cada grupo especificando la columna para obtener el recuento.\n",
    "\n",
    "A continuación se muestra un ejemplo de cómo debería verse el resultado final:\n",
    "`df.groupby(by='....')['column'].method()`Realiza cada cálculo por separado.\n",
    "\n",
    "Para evaluar la actividad de los usuarios y las usuarias en cada ciudad, agrupa los datos por ciudad y encuentra la cantidad de canciones reproducidas en cada grupo.\n",
    "\n"
   ]
  },
  {
   "cell_type": "code",
   "execution_count": 21,
   "metadata": {
    "id": "0_Qs96oh_Zcu"
   },
   "outputs": [
    {
     "name": "stdout",
     "output_type": "stream",
     "text": [
      "['Shelbyville' 'Springfield']\n",
      "\n",
      "city\n",
      "Shelbyville    18512\n",
      "Springfield    42741\n",
      "Name: day, dtype: int64\n"
     ]
    }
   ],
   "source": [
    "print(df[\"city\"].sort_values().unique())\n",
    "print()\n",
    "dfc= df.groupby(by=\"city\")['day'].count()# Contar las canciones reproducidas en cada ciudad\n",
    "\n",
    "print(dfc)"
   ]
  },
  {
   "cell_type": "markdown",
   "metadata": {
    "id": "t_Qx-3NewAnK"
   },
   "source": [
    "**Observaciones:**\n",
    "Despues del calculo se puede ver que en la ciudad de Springfield se escuchó 42.471 canciones, poco mas de el doble que Shelbyville con 18.512."
   ]
  },
  {
   "cell_type": "markdown",
   "metadata": {},
   "source": [
    "<div class=\"alert alert-block alert-success\">\n",
    "<b>Comentario del revisor</b> <a class=\"tocSkip\"></a>\n",
    "\n",
    "Perfecto.</div>"
   ]
  },
  {
   "cell_type": "markdown",
   "metadata": {
    "id": "dzli3w8o_Zcu"
   },
   "source": [
    "Ahora agrupemos los datos por día de la semana y encontremos el número de canciones reproducidas el lunes, miércoles y viernes. Utiliza el mismo método que antes, pero ahora necesitamos una agrupación diferente.\n"
   ]
  },
  {
   "cell_type": "code",
   "execution_count": 22,
   "metadata": {
    "id": "uZMKjiJz_Zcu"
   },
   "outputs": [
    {
     "name": "stdout",
     "output_type": "stream",
     "text": [
      "day\n",
      "Friday       21840\n",
      "Monday       21354\n",
      "Wednesday    18059\n",
      "Name: city, dtype: int64\n"
     ]
    }
   ],
   "source": [
    "\n",
    "dfd = df.groupby(by=\"day\")[\"city\"].count()# Calcular las canciones reproducidas en cada uno de los tres días\n",
    "print (dfd)"
   ]
  },
  {
   "cell_type": "markdown",
   "metadata": {
    "id": "cC2tNrlL_Zcu"
   },
   "source": [
    "**Observaciones:**\n",
    "Despues del calculo, los dias que más se escucha musica son los viernes con 21.840 caciones reproducidas mientras que los lunes se escuchan 486 cancines menos que el viernes (21.354). Por ultimo tenemos 18.059 reproducciones el miercoles dusminuyendo un 6,17% con respecto al lunes."
   ]
  },
  {
   "cell_type": "markdown",
   "metadata": {
    "id": "POzs8bGa_Zcu"
   },
   "source": [
    "Ya sabes cómo contar entradas agrupándolas por ciudad o día. Ahora necesitas escribir una función que pueda contar entradas según ambos criterios simultáneamente.\n",
    "\n",
    "Crea la función `number_tracks()` para calcular el número de canciones reproducidas en un determinado día **y** ciudad. La función debe aceptar dos parámetros:\n",
    "\n",
    "- `day`: un día de la semana para filtrar. Por ejemplo, `'Monday'` (lunes).\n",
    "- `city`: una ciudad para filtrar. Por ejemplo, `'Springfield'`.\n",
    "\n",
    "Dentro de la función, aplicarás un filtrado consecutivo con indexación lógica.\n",
    "\n",
    "Primero filtra los datos por día y luego filtra la tabla resultante por ciudad.\n",
    "\n",
    "Después de filtrar los datos por dos criterios, cuenta el número de valores de la columna 'user_id' en la tabla resultante. Este recuento representa el número de entradas que estás buscando. Guarda el resultado en una nueva variable y devuélvelo desde la función."
   ]
  },
  {
   "cell_type": "code",
   "execution_count": 23,
   "metadata": {
    "id": "Nz3GdQB1_Zcu"
   },
   "outputs": [],
   "source": [
    "def number_tracks(df, day, city ): # Declara la función number_tracks() con dos parámetros: day= y city=.\n",
    "    info=df[df[\"day\"]== day] # Almacena las filas del DataFrame donde el valor en la columna 'day' es igual al parámetro day=\n",
    "    info_2=info[info[\"city\"]== city] # Filtra las filas donde el valor en la columna 'city' es igual al parámetro city=\n",
    "    info_3=info_2[\"user_id\"].count() # Extrae la columna 'user_id' de la tabla filtrada y aplica el método count()\n",
    "    return info_3 # Devolve el número de valores de la columna 'user_id'\n",
    "\n",
    "\n"
   ]
  },
  {
   "cell_type": "markdown",
   "metadata": {},
   "source": [
    "<div class=\"alert alert-block alert-success\">\n",
    "<b>Comentario del revisor</b> <a class=\"tocSkip\"></a>\n",
    "\n",
    "Muy buena la funcion.\n",
    "\n",
    "Como recomendacion para futuros proyectos, podrias utilizar expresiones anidadas para que tu codigo sea mucho mas corto, por ejemplo si queremos que se cumplan dos condiciones consecutivas podemos utilizar el AND y en una linea de codigo resolvemos el mismo problema.</div>"
   ]
  },
  {
   "cell_type": "markdown",
   "metadata": {
    "id": "ytf7xFrFJQ2r"
   },
   "source": [
    "Llama a `number_tracks()` seis veces, cambiando los valores de los parámetros para que recuperes los datos de ambas ciudades para cada uno de los tres días."
   ]
  },
  {
   "cell_type": "code",
   "execution_count": 24,
   "metadata": {
    "id": "rJcRATNQ_Zcu"
   },
   "outputs": [
    {
     "name": "stdout",
     "output_type": "stream",
     "text": [
      "15740\n"
     ]
    }
   ],
   "source": [
    "print(number_tracks(df, \"Monday\", \"Springfield\"))# El número de canciones reproducidas en Springfield el lunes\n"
   ]
  },
  {
   "cell_type": "code",
   "execution_count": 25,
   "metadata": {
    "id": "hq_ncZ5T_Zcu"
   },
   "outputs": [
    {
     "name": "stdout",
     "output_type": "stream",
     "text": [
      "5614\n"
     ]
    }
   ],
   "source": [
    "print(number_tracks(df,\"Monday\",\"Shelbyville\"))# El número de canciones reproducidas en Shelbyville el lunes\n"
   ]
  },
  {
   "cell_type": "code",
   "execution_count": 26,
   "metadata": {
    "id": "_NTy2VPU_Zcu"
   },
   "outputs": [
    {
     "name": "stdout",
     "output_type": "stream",
     "text": [
      "11056\n"
     ]
    }
   ],
   "source": [
    "print(number_tracks(df,\"Wednesday\",\"Springfield\"))# El número de canciones reproducidas en Springfield el miércoles\n"
   ]
  },
  {
   "cell_type": "code",
   "execution_count": 27,
   "metadata": {
    "id": "j2y3TAwo_Zcu"
   },
   "outputs": [
    {
     "name": "stdout",
     "output_type": "stream",
     "text": [
      "7003\n"
     ]
    }
   ],
   "source": [
    "print(number_tracks(df,\"Wednesday\",\"Shelbyville\"))# El número de canciones reproducidas en Shelbyville el miércoles\n"
   ]
  },
  {
   "cell_type": "code",
   "execution_count": 28,
   "metadata": {
    "id": "vYDw5u_K_Zcu"
   },
   "outputs": [
    {
     "name": "stdout",
     "output_type": "stream",
     "text": [
      "15945\n"
     ]
    }
   ],
   "source": [
    "print(number_tracks(df,\"Friday\",\"Springfield\"))# El número de canciones reproducidas en Springfield el viernes\n"
   ]
  },
  {
   "cell_type": "code",
   "execution_count": 29,
   "metadata": {
    "id": "8_yzFtW3_Zcu"
   },
   "outputs": [
    {
     "name": "stdout",
     "output_type": "stream",
     "text": [
      "5895\n"
     ]
    }
   ],
   "source": [
    "print(number_tracks(df,\"Friday\",\"Shelbyville\"))# El número de canciones reproducidas en Shelbyville el viernes\n"
   ]
  },
  {
   "cell_type": "code",
   "execution_count": 30,
   "metadata": {
    "scrolled": true
   },
   "outputs": [
    {
     "name": "stdout",
     "output_type": "stream",
     "text": [
      "Springfield by day\n",
      "Friday       15945\n",
      "Monday       15740\n",
      "Wednesday    11056\n",
      "Name: user_id, dtype: int64\n",
      "Total 42741\n",
      "\n",
      "Shelbyville by day\n",
      "Wednesday    7003\n",
      "Friday       5895\n",
      "Monday       5614\n",
      "Name: user_id, dtype: int64\n",
      "Total 18512\n"
     ]
    }
   ],
   "source": [
    "df_city = df[df[\"city\"]==\"Springfield\"]\n",
    "df_day=df_city.groupby(by=\"day\")[\"user_id\"].count()\n",
    "print (\"Springfield by\",df_day.sort_values(ascending=False))\n",
    "print (\"Total\",df_day.sum())\n",
    "print()\n",
    "df_city = df[df[\"city\"]==\"Shelbyville\"]\n",
    "df_day=df_city.groupby(by=\"day\")[\"user_id\"].count()\n",
    "print (\"Shelbyville by\",df_day.sort_values(ascending=False))\n",
    "print (\"Total\",df_day.sum())"
   ]
  },
  {
   "cell_type": "markdown",
   "metadata": {},
   "source": [
    "<div class=\"alert alert-block alert-success\">\n",
    "<b>Comentario del revisor</b> <a class=\"tocSkip\"></a>\n",
    "\n",
    "Muy bien creando estas agrupaciones para que quede aun mas claro.</div>"
   ]
  },
  {
   "cell_type": "markdown",
   "metadata": {
    "id": "-EgPIHYu_Zcu"
   },
   "source": [
    "### Conclusiones\n",
    "\n",
    "Hipótesis:\n",
    "La actividad de los usuarios y las usuarias difiere según el día de la semana y dependiendo de la ciudad.\n",
    "\n",
    "La hipotesis es parcialmente correcta, la reproduccion de canciones difiere totalmente entre las dos ciudades, cualquera de los tres dias; sin embargo las dos ciudades tienen las misma tendencias los dias lunes y viernes en diferente proporciones, pero el miercoles difieren las dos ciudades es su tendencia.\n",
    "\n",
    "\n"
   ]
  },
  {
   "cell_type": "markdown",
   "metadata": {
    "id": "p7nFQajCVw5B"
   },
   "source": [
    "[Volver a Contenidos](#back)"
   ]
  },
  {
   "cell_type": "markdown",
   "metadata": {
    "id": "ykKQ0N65_Zcv"
   },
   "source": [
    "## Conclusiones <a id='end'></a>"
   ]
  },
  {
   "cell_type": "markdown",
   "metadata": {
    "id": "tjUwbHb3_Zcv"
   },
   "source": [
    "1. En Springfield se escuchas más mucica los viernes, mientras que en Shelbyville es el miercoles.\n",
    "2. La direfencia entre las reproducciones del lunes y el viernes es muy pequeña en las dos ciudades.\n",
    "3. En Springfield se escucha más del doble de canciones que en Shelbyville.\n",
    "4. En Springfield los lunes y viernes se escucha casi tres veces que en el Shelbyville.\n",
    "\n",
    "De aqui podemos tomar varias decisiones segun la estrategia del area."
   ]
  },
  {
   "cell_type": "markdown",
   "metadata": {},
   "source": [
    "<div class=\"alert alert-block alert-success\">\n",
    "<b>Comentario del revisor</b> <a class=\"tocSkip\"></a>\n",
    "\n",
    "Excelentes conclusiones, muy ordenadas y bien utilizado el bullet para cada item.</div>"
   ]
  },
  {
   "cell_type": "markdown",
   "metadata": {
    "id": "azLHu64yOIp7"
   },
   "source": [
    "**Nota**\n",
    "\n",
    "En proyectos de investigación reales, la prueba de hipótesis estadística es más precisa y cuantitativa. También ten en cuenta que no siempre se pueden sacar conclusiones sobre una ciudad entera a partir de datos de una sola fuente.\n",
    "\n",
    "Aprenderás más sobre la prueba de hipótesis en el sprint de análisis estadístico de datos."
   ]
  },
  {
   "cell_type": "markdown",
   "metadata": {
    "id": "Ju4AHDSgV1FE"
   },
   "source": [
    "[Volver a Contenidos](#back)"
   ]
  }
 ],
 "metadata": {
  "ExecuteTimeLog": [
   {
    "duration": 517,
    "start_time": "2024-08-05T18:30:59.546Z"
   },
   {
    "duration": 9,
    "start_time": "2024-08-05T18:32:23.874Z"
   },
   {
    "duration": 400,
    "start_time": "2024-08-05T18:32:28.405Z"
   },
   {
    "duration": 5,
    "start_time": "2024-08-05T18:33:16.723Z"
   },
   {
    "duration": 6,
    "start_time": "2024-08-05T18:33:43.177Z"
   },
   {
    "duration": 214,
    "start_time": "2024-08-05T18:35:32.343Z"
   },
   {
    "duration": 11,
    "start_time": "2024-08-05T18:35:58.047Z"
   },
   {
    "duration": 33,
    "start_time": "2024-08-05T18:36:38.995Z"
   },
   {
    "duration": 16,
    "start_time": "2024-08-05T18:40:31.691Z"
   },
   {
    "duration": 5,
    "start_time": "2024-08-05T18:40:51.178Z"
   },
   {
    "duration": 5,
    "start_time": "2024-08-05T19:20:38.642Z"
   },
   {
    "duration": 6,
    "start_time": "2024-08-05T19:24:50.882Z"
   },
   {
    "duration": 29,
    "start_time": "2024-08-05T19:24:57.196Z"
   },
   {
    "duration": 9,
    "start_time": "2024-08-05T19:26:11.083Z"
   },
   {
    "duration": 25,
    "start_time": "2024-08-05T19:26:26.047Z"
   },
   {
    "duration": 25,
    "start_time": "2024-08-05T19:29:07.000Z"
   },
   {
    "duration": 5,
    "start_time": "2024-08-05T19:30:48.554Z"
   },
   {
    "duration": 5,
    "start_time": "2024-08-05T19:33:17.933Z"
   },
   {
    "duration": 365,
    "start_time": "2024-08-05T19:35:06.186Z"
   },
   {
    "duration": 26,
    "start_time": "2024-08-05T19:35:36.606Z"
   },
   {
    "duration": 349,
    "start_time": "2024-08-05T19:35:53.795Z"
   },
   {
    "duration": 485,
    "start_time": "2024-08-05T19:36:07.179Z"
   },
   {
    "duration": 503,
    "start_time": "2024-08-05T19:36:15.437Z"
   },
   {
    "duration": 211,
    "start_time": "2024-08-05T19:36:15.944Z"
   },
   {
    "duration": 11,
    "start_time": "2024-08-05T19:36:16.158Z"
   },
   {
    "duration": 50,
    "start_time": "2024-08-05T19:36:16.174Z"
   },
   {
    "duration": 5,
    "start_time": "2024-08-05T19:36:16.227Z"
   },
   {
    "duration": 9,
    "start_time": "2024-08-05T19:36:16.236Z"
   },
   {
    "duration": 381,
    "start_time": "2024-08-05T19:41:09.170Z"
   },
   {
    "duration": 25,
    "start_time": "2024-08-05T19:41:26.624Z"
   },
   {
    "duration": 474,
    "start_time": "2024-08-05T19:41:34.622Z"
   },
   {
    "duration": 180,
    "start_time": "2024-08-05T19:41:35.100Z"
   },
   {
    "duration": 15,
    "start_time": "2024-08-05T19:41:35.283Z"
   },
   {
    "duration": 34,
    "start_time": "2024-08-05T19:41:35.303Z"
   },
   {
    "duration": 4,
    "start_time": "2024-08-05T19:41:35.340Z"
   },
   {
    "duration": 44,
    "start_time": "2024-08-05T19:41:35.347Z"
   },
   {
    "duration": 321,
    "start_time": "2024-08-05T19:42:56.528Z"
   },
   {
    "duration": 25,
    "start_time": "2024-08-05T19:44:48.564Z"
   },
   {
    "duration": 495,
    "start_time": "2024-08-05T19:44:57.232Z"
   },
   {
    "duration": 224,
    "start_time": "2024-08-05T19:44:57.732Z"
   },
   {
    "duration": 11,
    "start_time": "2024-08-05T19:44:57.959Z"
   },
   {
    "duration": 74,
    "start_time": "2024-08-05T19:44:57.974Z"
   },
   {
    "duration": 6,
    "start_time": "2024-08-05T19:44:58.053Z"
   },
   {
    "duration": 34,
    "start_time": "2024-08-05T19:44:58.063Z"
   },
   {
    "duration": 17,
    "start_time": "2024-08-05T19:44:58.100Z"
   },
   {
    "duration": 4,
    "start_time": "2024-08-05T19:44:58.121Z"
   },
   {
    "duration": 4,
    "start_time": "2024-08-05T19:44:58.127Z"
   },
   {
    "duration": 4,
    "start_time": "2024-08-05T19:44:58.134Z"
   },
   {
    "duration": 4,
    "start_time": "2024-08-05T19:44:58.141Z"
   },
   {
    "duration": 3,
    "start_time": "2024-08-05T19:44:58.149Z"
   },
   {
    "duration": 47,
    "start_time": "2024-08-05T19:44:58.155Z"
   },
   {
    "duration": 4,
    "start_time": "2024-08-05T19:44:58.209Z"
   },
   {
    "duration": 4,
    "start_time": "2024-08-05T19:44:58.216Z"
   },
   {
    "duration": 3,
    "start_time": "2024-08-05T19:44:58.224Z"
   },
   {
    "duration": 3,
    "start_time": "2024-08-05T19:44:58.232Z"
   },
   {
    "duration": 4,
    "start_time": "2024-08-05T19:44:58.239Z"
   },
   {
    "duration": 3,
    "start_time": "2024-08-05T19:44:58.247Z"
   },
   {
    "duration": 3,
    "start_time": "2024-08-05T19:44:58.303Z"
   },
   {
    "duration": 11,
    "start_time": "2024-08-05T19:44:58.309Z"
   },
   {
    "duration": 4,
    "start_time": "2024-08-05T19:44:58.323Z"
   },
   {
    "duration": 4,
    "start_time": "2024-08-05T19:44:58.330Z"
   },
   {
    "duration": 4,
    "start_time": "2024-08-05T19:44:58.337Z"
   },
   {
    "duration": 4,
    "start_time": "2024-08-05T19:44:58.345Z"
   },
   {
    "duration": 3,
    "start_time": "2024-08-05T19:44:58.353Z"
   },
   {
    "duration": 14,
    "start_time": "2024-08-05T19:44:58.399Z"
   },
   {
    "duration": 4,
    "start_time": "2024-08-05T19:44:58.418Z"
   },
   {
    "duration": 6,
    "start_time": "2024-08-05T19:45:31.657Z"
   },
   {
    "duration": 32,
    "start_time": "2024-08-05T19:58:17.155Z"
   },
   {
    "duration": 4,
    "start_time": "2024-08-05T19:58:48.721Z"
   },
   {
    "duration": 42,
    "start_time": "2024-08-05T19:58:55.608Z"
   },
   {
    "duration": 46,
    "start_time": "2024-08-05T20:06:19.200Z"
   },
   {
    "duration": 53,
    "start_time": "2024-08-05T20:07:02.636Z"
   },
   {
    "duration": 35,
    "start_time": "2024-08-05T20:07:42.230Z"
   },
   {
    "duration": 37,
    "start_time": "2024-08-05T20:08:02.610Z"
   },
   {
    "duration": 52,
    "start_time": "2024-08-05T20:08:21.857Z"
   },
   {
    "duration": 4,
    "start_time": "2024-08-05T20:08:45.407Z"
   },
   {
    "duration": 30,
    "start_time": "2024-08-05T20:09:47.154Z"
   },
   {
    "duration": 378,
    "start_time": "2024-08-05T20:09:57.350Z"
   },
   {
    "duration": 26,
    "start_time": "2024-08-05T20:10:02.335Z"
   },
   {
    "duration": 44,
    "start_time": "2024-08-05T20:14:44.609Z"
   },
   {
    "duration": 47,
    "start_time": "2024-08-05T20:19:51.840Z"
   },
   {
    "duration": 33,
    "start_time": "2024-08-05T20:20:06.340Z"
   },
   {
    "duration": 100,
    "start_time": "2024-08-05T20:25:08.393Z"
   },
   {
    "duration": 89,
    "start_time": "2024-08-05T20:25:15.651Z"
   },
   {
    "duration": 42,
    "start_time": "2024-08-05T20:26:36.677Z"
   },
   {
    "duration": 119,
    "start_time": "2024-08-05T20:26:48.285Z"
   },
   {
    "duration": 124,
    "start_time": "2024-08-05T20:27:20.872Z"
   },
   {
    "duration": 65,
    "start_time": "2024-08-05T20:28:08.457Z"
   },
   {
    "duration": 64,
    "start_time": "2024-08-05T20:28:21.635Z"
   },
   {
    "duration": 91,
    "start_time": "2024-08-05T20:29:34.518Z"
   },
   {
    "duration": 598,
    "start_time": "2024-08-05T20:29:42.379Z"
   },
   {
    "duration": 231,
    "start_time": "2024-08-05T20:29:42.983Z"
   },
   {
    "duration": 14,
    "start_time": "2024-08-05T20:29:43.218Z"
   },
   {
    "duration": 62,
    "start_time": "2024-08-05T20:29:43.235Z"
   },
   {
    "duration": 5,
    "start_time": "2024-08-05T20:29:43.302Z"
   },
   {
    "duration": 10,
    "start_time": "2024-08-05T20:29:43.310Z"
   },
   {
    "duration": 8,
    "start_time": "2024-08-05T20:29:43.322Z"
   },
   {
    "duration": 84,
    "start_time": "2024-08-05T20:29:43.333Z"
   },
   {
    "duration": 5,
    "start_time": "2024-08-05T20:29:43.420Z"
   },
   {
    "duration": 32,
    "start_time": "2024-08-05T20:29:43.428Z"
   },
   {
    "duration": 88,
    "start_time": "2024-08-05T20:29:43.463Z"
   },
   {
    "duration": 59,
    "start_time": "2024-08-05T20:29:43.554Z"
   },
   {
    "duration": 150,
    "start_time": "2024-08-05T20:29:43.618Z"
   },
   {
    "duration": 425,
    "start_time": "2024-08-05T20:29:43.779Z"
   },
   {
    "duration": 0,
    "start_time": "2024-08-05T20:29:44.208Z"
   },
   {
    "duration": 0,
    "start_time": "2024-08-05T20:29:44.210Z"
   },
   {
    "duration": 0,
    "start_time": "2024-08-05T20:29:44.213Z"
   },
   {
    "duration": 0,
    "start_time": "2024-08-05T20:29:44.215Z"
   },
   {
    "duration": 0,
    "start_time": "2024-08-05T20:29:44.218Z"
   },
   {
    "duration": 0,
    "start_time": "2024-08-05T20:29:44.221Z"
   },
   {
    "duration": 0,
    "start_time": "2024-08-05T20:29:44.223Z"
   },
   {
    "duration": 0,
    "start_time": "2024-08-05T20:29:44.225Z"
   },
   {
    "duration": 0,
    "start_time": "2024-08-05T20:29:44.227Z"
   },
   {
    "duration": 0,
    "start_time": "2024-08-05T20:29:44.229Z"
   },
   {
    "duration": 0,
    "start_time": "2024-08-05T20:29:44.231Z"
   },
   {
    "duration": 0,
    "start_time": "2024-08-05T20:29:44.233Z"
   },
   {
    "duration": 0,
    "start_time": "2024-08-05T20:29:44.235Z"
   },
   {
    "duration": 0,
    "start_time": "2024-08-05T20:29:44.238Z"
   },
   {
    "duration": 8,
    "start_time": "2024-08-05T20:30:02.432Z"
   },
   {
    "duration": 25,
    "start_time": "2024-08-05T20:30:15.332Z"
   },
   {
    "duration": 24,
    "start_time": "2024-08-05T20:30:36.630Z"
   },
   {
    "duration": 26,
    "start_time": "2024-08-05T20:31:30.670Z"
   },
   {
    "duration": 29,
    "start_time": "2024-08-05T20:33:24.015Z"
   },
   {
    "duration": 23,
    "start_time": "2024-08-05T20:33:34.431Z"
   },
   {
    "duration": 53,
    "start_time": "2024-08-05T20:35:03.800Z"
   },
   {
    "duration": 22,
    "start_time": "2024-08-05T20:35:12.940Z"
   },
   {
    "duration": 502,
    "start_time": "2024-08-05T20:35:34.407Z"
   },
   {
    "duration": 175,
    "start_time": "2024-08-05T20:35:34.914Z"
   },
   {
    "duration": 19,
    "start_time": "2024-08-05T20:35:35.102Z"
   },
   {
    "duration": 36,
    "start_time": "2024-08-05T20:35:35.124Z"
   },
   {
    "duration": 4,
    "start_time": "2024-08-05T20:35:35.165Z"
   },
   {
    "duration": 26,
    "start_time": "2024-08-05T20:35:35.172Z"
   },
   {
    "duration": 6,
    "start_time": "2024-08-05T20:35:35.204Z"
   },
   {
    "duration": 41,
    "start_time": "2024-08-05T20:35:35.213Z"
   },
   {
    "duration": 47,
    "start_time": "2024-08-05T20:35:35.258Z"
   },
   {
    "duration": 30,
    "start_time": "2024-08-05T20:35:35.315Z"
   },
   {
    "duration": 65,
    "start_time": "2024-08-05T20:35:35.348Z"
   },
   {
    "duration": 35,
    "start_time": "2024-08-05T20:35:35.420Z"
   },
   {
    "duration": 87,
    "start_time": "2024-08-05T20:35:35.457Z"
   },
   {
    "duration": 43,
    "start_time": "2024-08-05T20:35:35.549Z"
   },
   {
    "duration": 4,
    "start_time": "2024-08-05T20:35:35.594Z"
   },
   {
    "duration": 3,
    "start_time": "2024-08-05T20:35:35.603Z"
   },
   {
    "duration": 9,
    "start_time": "2024-08-05T20:35:35.619Z"
   },
   {
    "duration": 4,
    "start_time": "2024-08-05T20:35:35.632Z"
   },
   {
    "duration": 4,
    "start_time": "2024-08-05T20:35:35.639Z"
   },
   {
    "duration": 4,
    "start_time": "2024-08-05T20:35:35.647Z"
   },
   {
    "duration": 54,
    "start_time": "2024-08-05T20:35:35.655Z"
   },
   {
    "duration": 5,
    "start_time": "2024-08-05T20:35:35.719Z"
   },
   {
    "duration": 4,
    "start_time": "2024-08-05T20:35:35.727Z"
   },
   {
    "duration": 4,
    "start_time": "2024-08-05T20:35:35.734Z"
   },
   {
    "duration": 3,
    "start_time": "2024-08-05T20:35:35.742Z"
   },
   {
    "duration": 4,
    "start_time": "2024-08-05T20:35:35.748Z"
   },
   {
    "duration": 3,
    "start_time": "2024-08-05T20:35:35.755Z"
   },
   {
    "duration": 50,
    "start_time": "2024-08-05T20:35:35.761Z"
   },
   {
    "duration": 66,
    "start_time": "2024-08-05T20:35:48.307Z"
   },
   {
    "duration": 114,
    "start_time": "2024-08-05T20:36:16.929Z"
   },
   {
    "duration": 146,
    "start_time": "2024-08-05T20:36:48.306Z"
   },
   {
    "duration": 181,
    "start_time": "2024-08-05T20:37:50.060Z"
   },
   {
    "duration": 71,
    "start_time": "2024-08-05T20:38:05.423Z"
   },
   {
    "duration": 78,
    "start_time": "2024-08-05T20:38:08.207Z"
   },
   {
    "duration": 86,
    "start_time": "2024-08-05T20:38:19.384Z"
   },
   {
    "duration": 6,
    "start_time": "2024-08-05T20:40:53.883Z"
   },
   {
    "duration": 402,
    "start_time": "2024-08-05T20:41:36.299Z"
   },
   {
    "duration": 10,
    "start_time": "2024-08-05T20:42:36.078Z"
   },
   {
    "duration": 6,
    "start_time": "2024-08-05T20:43:07.333Z"
   },
   {
    "duration": 6,
    "start_time": "2024-08-05T20:43:12.770Z"
   },
   {
    "duration": 10,
    "start_time": "2024-08-05T20:44:02.958Z"
   },
   {
    "duration": 27,
    "start_time": "2024-08-05T20:44:41.439Z"
   },
   {
    "duration": 6,
    "start_time": "2024-08-05T20:44:49.481Z"
   },
   {
    "duration": 68,
    "start_time": "2024-08-05T20:44:54.011Z"
   },
   {
    "duration": 56,
    "start_time": "2024-08-05T20:45:02.558Z"
   },
   {
    "duration": 7,
    "start_time": "2024-08-05T20:47:05.305Z"
   },
   {
    "duration": 715,
    "start_time": "2024-08-05T20:47:20.048Z"
   },
   {
    "duration": 59,
    "start_time": "2024-08-05T20:47:45.497Z"
   },
   {
    "duration": 4,
    "start_time": "2024-08-05T20:56:40.284Z"
   },
   {
    "duration": 75,
    "start_time": "2024-08-05T20:59:46.242Z"
   },
   {
    "duration": 45,
    "start_time": "2024-08-05T21:01:11.834Z"
   },
   {
    "duration": 43,
    "start_time": "2024-08-05T21:01:22.872Z"
   },
   {
    "duration": 53,
    "start_time": "2024-08-05T21:01:31.415Z"
   },
   {
    "duration": 479,
    "start_time": "2024-08-05T21:03:11.086Z"
   },
   {
    "duration": 184,
    "start_time": "2024-08-05T21:03:11.568Z"
   },
   {
    "duration": 13,
    "start_time": "2024-08-05T21:03:11.754Z"
   },
   {
    "duration": 49,
    "start_time": "2024-08-05T21:03:11.770Z"
   },
   {
    "duration": 5,
    "start_time": "2024-08-05T21:03:11.825Z"
   },
   {
    "duration": 7,
    "start_time": "2024-08-05T21:03:11.835Z"
   },
   {
    "duration": 6,
    "start_time": "2024-08-05T21:03:11.890Z"
   },
   {
    "duration": 48,
    "start_time": "2024-08-05T21:03:11.900Z"
   },
   {
    "duration": 6,
    "start_time": "2024-08-05T21:03:11.952Z"
   },
   {
    "duration": 27,
    "start_time": "2024-08-05T21:03:11.993Z"
   },
   {
    "duration": 76,
    "start_time": "2024-08-05T21:03:12.024Z"
   },
   {
    "duration": 37,
    "start_time": "2024-08-05T21:03:12.103Z"
   },
   {
    "duration": 119,
    "start_time": "2024-08-05T21:03:12.144Z"
   },
   {
    "duration": 108,
    "start_time": "2024-08-05T21:03:12.269Z"
   },
   {
    "duration": 84,
    "start_time": "2024-08-05T21:03:12.381Z"
   },
   {
    "duration": 74,
    "start_time": "2024-08-05T21:03:12.469Z"
   },
   {
    "duration": 5,
    "start_time": "2024-08-05T21:03:12.547Z"
   },
   {
    "duration": 72,
    "start_time": "2024-08-05T21:03:12.557Z"
   },
   {
    "duration": 75,
    "start_time": "2024-08-05T21:03:12.632Z"
   },
   {
    "duration": 3,
    "start_time": "2024-08-05T21:03:12.711Z"
   },
   {
    "duration": 4,
    "start_time": "2024-08-05T21:03:12.718Z"
   },
   {
    "duration": 4,
    "start_time": "2024-08-05T21:03:12.727Z"
   },
   {
    "duration": 4,
    "start_time": "2024-08-05T21:03:12.735Z"
   },
   {
    "duration": 54,
    "start_time": "2024-08-05T21:03:12.744Z"
   },
   {
    "duration": 4,
    "start_time": "2024-08-05T21:03:12.802Z"
   },
   {
    "duration": 3,
    "start_time": "2024-08-05T21:03:12.810Z"
   },
   {
    "duration": 3,
    "start_time": "2024-08-05T21:03:12.818Z"
   },
   {
    "duration": 5,
    "start_time": "2024-08-05T21:03:12.826Z"
   },
   {
    "duration": 32,
    "start_time": "2024-08-05T21:05:35.442Z"
   },
   {
    "duration": 37,
    "start_time": "2024-08-05T21:09:18.046Z"
   },
   {
    "duration": 40,
    "start_time": "2024-08-05T21:12:19.067Z"
   },
   {
    "duration": 124,
    "start_time": "2024-08-05T21:16:23.767Z"
   },
   {
    "duration": 7,
    "start_time": "2024-08-05T21:37:42.825Z"
   },
   {
    "duration": 1171,
    "start_time": "2024-08-05T21:37:59.357Z"
   },
   {
    "duration": 96,
    "start_time": "2024-08-05T21:38:22.609Z"
   },
   {
    "duration": 91,
    "start_time": "2024-08-05T21:38:34.274Z"
   },
   {
    "duration": 93,
    "start_time": "2024-08-05T21:39:05.035Z"
   },
   {
    "duration": 98,
    "start_time": "2024-08-05T21:39:32.503Z"
   },
   {
    "duration": 623,
    "start_time": "2024-08-05T21:40:19.428Z"
   },
   {
    "duration": 683,
    "start_time": "2024-08-05T21:40:58.334Z"
   },
   {
    "duration": 140,
    "start_time": "2024-08-05T21:42:07.668Z"
   },
   {
    "duration": 349,
    "start_time": "2024-08-05T21:42:34.401Z"
   },
   {
    "duration": 624,
    "start_time": "2024-08-05T21:42:59.724Z"
   },
   {
    "duration": 436,
    "start_time": "2024-08-05T21:43:23.979Z"
   },
   {
    "duration": 415,
    "start_time": "2024-08-05T21:43:58.149Z"
   },
   {
    "duration": 783,
    "start_time": "2024-08-05T21:44:17.511Z"
   },
   {
    "duration": 114,
    "start_time": "2024-08-05T21:44:23.509Z"
   },
   {
    "duration": 97,
    "start_time": "2024-08-05T21:44:29.020Z"
   },
   {
    "duration": 504,
    "start_time": "2024-08-05T21:44:45.918Z"
   },
   {
    "duration": 191,
    "start_time": "2024-08-05T21:44:46.426Z"
   },
   {
    "duration": 11,
    "start_time": "2024-08-05T21:44:46.620Z"
   },
   {
    "duration": 35,
    "start_time": "2024-08-05T21:44:46.635Z"
   },
   {
    "duration": 28,
    "start_time": "2024-08-05T21:44:46.673Z"
   },
   {
    "duration": 6,
    "start_time": "2024-08-05T21:44:46.719Z"
   },
   {
    "duration": 5,
    "start_time": "2024-08-05T21:44:46.728Z"
   },
   {
    "duration": 38,
    "start_time": "2024-08-05T21:44:46.735Z"
   },
   {
    "duration": 19,
    "start_time": "2024-08-05T21:44:46.776Z"
   },
   {
    "duration": 40,
    "start_time": "2024-08-05T21:44:46.801Z"
   },
   {
    "duration": 105,
    "start_time": "2024-08-05T21:44:46.844Z"
   },
   {
    "duration": 65,
    "start_time": "2024-08-05T21:44:46.952Z"
   },
   {
    "duration": 104,
    "start_time": "2024-08-05T21:44:47.024Z"
   },
   {
    "duration": 101,
    "start_time": "2024-08-05T21:44:47.131Z"
   },
   {
    "duration": 87,
    "start_time": "2024-08-05T21:44:47.234Z"
   },
   {
    "duration": 50,
    "start_time": "2024-08-05T21:44:47.324Z"
   },
   {
    "duration": 4,
    "start_time": "2024-08-05T21:44:47.378Z"
   },
   {
    "duration": 52,
    "start_time": "2024-08-05T21:44:47.392Z"
   },
   {
    "duration": 87,
    "start_time": "2024-08-05T21:44:47.447Z"
   },
   {
    "duration": 114,
    "start_time": "2024-08-05T21:44:47.538Z"
   },
   {
    "duration": 441,
    "start_time": "2024-08-05T21:44:47.655Z"
   },
   {
    "duration": 7,
    "start_time": "2024-08-05T21:44:48.100Z"
   },
   {
    "duration": 7,
    "start_time": "2024-08-05T21:44:48.114Z"
   },
   {
    "duration": 7,
    "start_time": "2024-08-05T21:44:48.127Z"
   },
   {
    "duration": 3,
    "start_time": "2024-08-05T21:44:48.138Z"
   },
   {
    "duration": 4,
    "start_time": "2024-08-05T21:44:48.146Z"
   },
   {
    "duration": 4,
    "start_time": "2024-08-05T21:44:48.153Z"
   },
   {
    "duration": 18,
    "start_time": "2024-08-05T21:44:48.195Z"
   },
   {
    "duration": 12,
    "start_time": "2024-08-05T21:44:48.218Z"
   },
   {
    "duration": 1111,
    "start_time": "2024-08-05T21:45:17.926Z"
   },
   {
    "duration": 554,
    "start_time": "2024-08-05T21:45:45.881Z"
   },
   {
    "duration": 190,
    "start_time": "2024-08-05T21:45:46.439Z"
   },
   {
    "duration": 12,
    "start_time": "2024-08-05T21:45:46.631Z"
   },
   {
    "duration": 54,
    "start_time": "2024-08-05T21:45:46.646Z"
   },
   {
    "duration": 12,
    "start_time": "2024-08-05T21:45:46.705Z"
   },
   {
    "duration": 7,
    "start_time": "2024-08-05T21:45:46.722Z"
   },
   {
    "duration": 5,
    "start_time": "2024-08-05T21:45:46.732Z"
   },
   {
    "duration": 84,
    "start_time": "2024-08-05T21:45:46.741Z"
   },
   {
    "duration": 5,
    "start_time": "2024-08-05T21:45:46.829Z"
   },
   {
    "duration": 56,
    "start_time": "2024-08-05T21:45:46.838Z"
   },
   {
    "duration": 61,
    "start_time": "2024-08-05T21:45:46.898Z"
   },
   {
    "duration": 62,
    "start_time": "2024-08-05T21:45:46.964Z"
   },
   {
    "duration": 109,
    "start_time": "2024-08-05T21:45:47.029Z"
   },
   {
    "duration": 108,
    "start_time": "2024-08-05T21:45:47.145Z"
   },
   {
    "duration": 102,
    "start_time": "2024-08-05T21:45:47.256Z"
   },
   {
    "duration": 75,
    "start_time": "2024-08-05T21:45:47.361Z"
   },
   {
    "duration": 6,
    "start_time": "2024-08-05T21:45:47.439Z"
   },
   {
    "duration": 85,
    "start_time": "2024-08-05T21:45:47.448Z"
   },
   {
    "duration": 65,
    "start_time": "2024-08-05T21:45:47.536Z"
   },
   {
    "duration": 129,
    "start_time": "2024-08-05T21:45:47.606Z"
   },
   {
    "duration": 87,
    "start_time": "2024-08-05T21:45:47.738Z"
   },
   {
    "duration": 4,
    "start_time": "2024-08-05T21:45:47.828Z"
   },
   {
    "duration": 4,
    "start_time": "2024-08-05T21:45:47.836Z"
   },
   {
    "duration": 4,
    "start_time": "2024-08-05T21:45:47.843Z"
   },
   {
    "duration": 4,
    "start_time": "2024-08-05T21:45:47.850Z"
   },
   {
    "duration": 4,
    "start_time": "2024-08-05T21:45:47.890Z"
   },
   {
    "duration": 18,
    "start_time": "2024-08-05T21:45:47.898Z"
   },
   {
    "duration": 10,
    "start_time": "2024-08-05T21:45:47.919Z"
   },
   {
    "duration": 3,
    "start_time": "2024-08-05T21:45:47.934Z"
   },
   {
    "duration": 1122,
    "start_time": "2024-08-05T21:48:42.399Z"
   },
   {
    "duration": 86,
    "start_time": "2024-08-05T21:48:46.380Z"
   },
   {
    "duration": 477,
    "start_time": "2024-08-05T21:48:52.700Z"
   },
   {
    "duration": 177,
    "start_time": "2024-08-05T21:48:53.181Z"
   },
   {
    "duration": 11,
    "start_time": "2024-08-05T21:48:53.361Z"
   },
   {
    "duration": 62,
    "start_time": "2024-08-05T21:48:53.375Z"
   },
   {
    "duration": 5,
    "start_time": "2024-08-05T21:48:53.443Z"
   },
   {
    "duration": 6,
    "start_time": "2024-08-05T21:48:53.452Z"
   },
   {
    "duration": 34,
    "start_time": "2024-08-05T21:48:53.461Z"
   },
   {
    "duration": 40,
    "start_time": "2024-08-05T21:48:53.499Z"
   },
   {
    "duration": 6,
    "start_time": "2024-08-05T21:48:53.542Z"
   },
   {
    "duration": 71,
    "start_time": "2024-08-05T21:48:53.551Z"
   },
   {
    "duration": 76,
    "start_time": "2024-08-05T21:48:53.626Z"
   },
   {
    "duration": 46,
    "start_time": "2024-08-05T21:48:53.705Z"
   },
   {
    "duration": 103,
    "start_time": "2024-08-05T21:48:53.755Z"
   },
   {
    "duration": 102,
    "start_time": "2024-08-05T21:48:53.866Z"
   },
   {
    "duration": 76,
    "start_time": "2024-08-05T21:48:53.971Z"
   },
   {
    "duration": 64,
    "start_time": "2024-08-05T21:48:54.053Z"
   },
   {
    "duration": 6,
    "start_time": "2024-08-05T21:48:54.120Z"
   },
   {
    "duration": 72,
    "start_time": "2024-08-05T21:48:54.129Z"
   },
   {
    "duration": 88,
    "start_time": "2024-08-05T21:48:54.204Z"
   },
   {
    "duration": 110,
    "start_time": "2024-08-05T21:48:54.294Z"
   },
   {
    "duration": 57,
    "start_time": "2024-08-05T21:48:54.410Z"
   },
   {
    "duration": 19,
    "start_time": "2024-08-05T21:48:54.471Z"
   },
   {
    "duration": 4,
    "start_time": "2024-08-05T21:48:54.493Z"
   },
   {
    "duration": 3,
    "start_time": "2024-08-05T21:48:54.501Z"
   },
   {
    "duration": 4,
    "start_time": "2024-08-05T21:48:54.507Z"
   },
   {
    "duration": 4,
    "start_time": "2024-08-05T21:48:54.514Z"
   },
   {
    "duration": 4,
    "start_time": "2024-08-05T21:48:54.521Z"
   },
   {
    "duration": 4,
    "start_time": "2024-08-05T21:48:54.528Z"
   },
   {
    "duration": 56,
    "start_time": "2024-08-05T21:48:54.535Z"
   },
   {
    "duration": 1022,
    "start_time": "2024-08-05T21:49:06.511Z"
   },
   {
    "duration": 464,
    "start_time": "2024-08-05T21:49:13.056Z"
   },
   {
    "duration": 172,
    "start_time": "2024-08-05T21:49:13.525Z"
   },
   {
    "duration": 12,
    "start_time": "2024-08-05T21:49:13.700Z"
   },
   {
    "duration": 38,
    "start_time": "2024-08-05T21:49:13.719Z"
   },
   {
    "duration": 29,
    "start_time": "2024-08-05T21:49:13.762Z"
   },
   {
    "duration": 6,
    "start_time": "2024-08-05T21:49:13.795Z"
   },
   {
    "duration": 6,
    "start_time": "2024-08-05T21:49:13.806Z"
   },
   {
    "duration": 78,
    "start_time": "2024-08-05T21:49:13.815Z"
   },
   {
    "duration": 4,
    "start_time": "2024-08-05T21:49:13.896Z"
   },
   {
    "duration": 26,
    "start_time": "2024-08-05T21:49:13.907Z"
   },
   {
    "duration": 83,
    "start_time": "2024-08-05T21:49:13.937Z"
   },
   {
    "duration": 36,
    "start_time": "2024-08-05T21:49:14.022Z"
   },
   {
    "duration": 109,
    "start_time": "2024-08-05T21:49:14.062Z"
   },
   {
    "duration": 119,
    "start_time": "2024-08-05T21:49:14.174Z"
   },
   {
    "duration": 72,
    "start_time": "2024-08-05T21:49:14.297Z"
   },
   {
    "duration": 52,
    "start_time": "2024-08-05T21:49:14.392Z"
   },
   {
    "duration": 6,
    "start_time": "2024-08-05T21:49:14.448Z"
   },
   {
    "duration": 70,
    "start_time": "2024-08-05T21:49:14.458Z"
   },
   {
    "duration": 68,
    "start_time": "2024-08-05T21:49:14.532Z"
   },
   {
    "duration": 115,
    "start_time": "2024-08-05T21:49:14.603Z"
   },
   {
    "duration": 77,
    "start_time": "2024-08-05T21:49:14.722Z"
   },
   {
    "duration": 8,
    "start_time": "2024-08-05T21:49:14.803Z"
   },
   {
    "duration": 4,
    "start_time": "2024-08-05T21:49:14.814Z"
   },
   {
    "duration": 9,
    "start_time": "2024-08-05T21:49:14.821Z"
   },
   {
    "duration": 5,
    "start_time": "2024-08-05T21:49:14.834Z"
   },
   {
    "duration": 6,
    "start_time": "2024-08-05T21:49:14.842Z"
   },
   {
    "duration": 40,
    "start_time": "2024-08-05T21:49:14.851Z"
   },
   {
    "duration": 3,
    "start_time": "2024-08-05T21:49:14.898Z"
   },
   {
    "duration": 4,
    "start_time": "2024-08-05T21:49:14.904Z"
   },
   {
    "duration": 981,
    "start_time": "2024-08-05T21:49:57.875Z"
   },
   {
    "duration": 497,
    "start_time": "2024-08-05T21:51:35.343Z"
   },
   {
    "duration": 205,
    "start_time": "2024-08-05T21:51:35.844Z"
   },
   {
    "duration": 11,
    "start_time": "2024-08-05T21:51:36.053Z"
   },
   {
    "duration": 57,
    "start_time": "2024-08-05T21:51:36.067Z"
   },
   {
    "duration": 5,
    "start_time": "2024-08-05T21:51:36.128Z"
   },
   {
    "duration": 6,
    "start_time": "2024-08-05T21:51:36.136Z"
   },
   {
    "duration": 5,
    "start_time": "2024-08-05T21:51:36.146Z"
   },
   {
    "duration": 85,
    "start_time": "2024-08-05T21:51:36.156Z"
   },
   {
    "duration": 5,
    "start_time": "2024-08-05T21:51:36.244Z"
   },
   {
    "duration": 63,
    "start_time": "2024-08-05T21:51:36.252Z"
   },
   {
    "duration": 47,
    "start_time": "2024-08-05T21:51:36.319Z"
   },
   {
    "duration": 60,
    "start_time": "2024-08-05T21:51:36.369Z"
   },
   {
    "duration": 107,
    "start_time": "2024-08-05T21:51:36.433Z"
   },
   {
    "duration": 106,
    "start_time": "2024-08-05T21:51:36.547Z"
   },
   {
    "duration": 106,
    "start_time": "2024-08-05T21:51:36.656Z"
   },
   {
    "duration": 72,
    "start_time": "2024-08-05T21:51:36.765Z"
   },
   {
    "duration": 5,
    "start_time": "2024-08-05T21:51:36.840Z"
   },
   {
    "duration": 79,
    "start_time": "2024-08-05T21:51:36.849Z"
   },
   {
    "duration": 51,
    "start_time": "2024-08-05T21:51:36.931Z"
   },
   {
    "duration": 161,
    "start_time": "2024-08-05T21:51:36.985Z"
   },
   {
    "duration": 73,
    "start_time": "2024-08-05T21:51:37.149Z"
   },
   {
    "duration": 17,
    "start_time": "2024-08-05T21:51:37.226Z"
   },
   {
    "duration": 3,
    "start_time": "2024-08-05T21:51:37.248Z"
   },
   {
    "duration": 6,
    "start_time": "2024-08-05T21:51:37.254Z"
   },
   {
    "duration": 4,
    "start_time": "2024-08-05T21:51:37.263Z"
   },
   {
    "duration": 38,
    "start_time": "2024-08-05T21:51:37.270Z"
   },
   {
    "duration": 4,
    "start_time": "2024-08-05T21:51:37.320Z"
   },
   {
    "duration": 4,
    "start_time": "2024-08-05T21:51:37.327Z"
   },
   {
    "duration": 4,
    "start_time": "2024-08-05T21:51:37.334Z"
   },
   {
    "duration": 48,
    "start_time": "2024-08-05T21:53:29.461Z"
   },
   {
    "duration": 55,
    "start_time": "2024-08-05T21:53:43.570Z"
   },
   {
    "duration": 446,
    "start_time": "2024-08-05T21:54:10.228Z"
   },
   {
    "duration": 47,
    "start_time": "2024-08-05T21:54:15.613Z"
   },
   {
    "duration": 10,
    "start_time": "2024-08-05T21:54:57.546Z"
   },
   {
    "duration": 16,
    "start_time": "2024-08-05T21:55:04.818Z"
   },
   {
    "duration": 294,
    "start_time": "2024-08-05T21:56:08.073Z"
   },
   {
    "duration": 486,
    "start_time": "2024-08-05T21:56:17.223Z"
   },
   {
    "duration": 206,
    "start_time": "2024-08-05T21:56:17.713Z"
   },
   {
    "duration": 11,
    "start_time": "2024-08-05T21:56:17.923Z"
   },
   {
    "duration": 35,
    "start_time": "2024-08-05T21:56:17.937Z"
   },
   {
    "duration": 27,
    "start_time": "2024-08-05T21:56:17.976Z"
   },
   {
    "duration": 11,
    "start_time": "2024-08-05T21:56:18.010Z"
   },
   {
    "duration": 6,
    "start_time": "2024-08-05T21:56:18.025Z"
   },
   {
    "duration": 79,
    "start_time": "2024-08-05T21:56:18.034Z"
   },
   {
    "duration": 7,
    "start_time": "2024-08-05T21:56:18.117Z"
   },
   {
    "duration": 30,
    "start_time": "2024-08-05T21:56:18.128Z"
   },
   {
    "duration": 85,
    "start_time": "2024-08-05T21:56:18.161Z"
   },
   {
    "duration": 58,
    "start_time": "2024-08-05T21:56:18.249Z"
   },
   {
    "duration": 114,
    "start_time": "2024-08-05T21:56:18.313Z"
   },
   {
    "duration": 116,
    "start_time": "2024-08-05T21:56:18.436Z"
   },
   {
    "duration": 90,
    "start_time": "2024-08-05T21:56:18.555Z"
   },
   {
    "duration": 81,
    "start_time": "2024-08-05T21:56:18.648Z"
   },
   {
    "duration": 4,
    "start_time": "2024-08-05T21:56:18.732Z"
   },
   {
    "duration": 70,
    "start_time": "2024-08-05T21:56:18.740Z"
   },
   {
    "duration": 55,
    "start_time": "2024-08-05T21:56:18.814Z"
   },
   {
    "duration": 154,
    "start_time": "2024-08-05T21:56:18.872Z"
   },
   {
    "duration": 83,
    "start_time": "2024-08-05T21:56:19.030Z"
   },
   {
    "duration": 950,
    "start_time": "2024-08-05T21:56:19.118Z"
   },
   {
    "duration": 0,
    "start_time": "2024-08-05T21:56:20.071Z"
   },
   {
    "duration": 0,
    "start_time": "2024-08-05T21:56:20.073Z"
   },
   {
    "duration": 0,
    "start_time": "2024-08-05T21:56:20.075Z"
   },
   {
    "duration": 0,
    "start_time": "2024-08-05T21:56:20.090Z"
   },
   {
    "duration": 0,
    "start_time": "2024-08-05T21:56:20.093Z"
   },
   {
    "duration": 0,
    "start_time": "2024-08-05T21:56:20.102Z"
   },
   {
    "duration": 0,
    "start_time": "2024-08-05T21:56:20.104Z"
   },
   {
    "duration": 9,
    "start_time": "2024-08-05T21:57:12.300Z"
   },
   {
    "duration": 96,
    "start_time": "2024-08-05T21:57:17.220Z"
   },
   {
    "duration": 483,
    "start_time": "2024-08-05T21:57:27.625Z"
   },
   {
    "duration": 184,
    "start_time": "2024-08-05T21:57:28.111Z"
   },
   {
    "duration": 15,
    "start_time": "2024-08-05T21:57:28.298Z"
   },
   {
    "duration": 39,
    "start_time": "2024-08-05T21:57:28.316Z"
   },
   {
    "duration": 4,
    "start_time": "2024-08-05T21:57:28.361Z"
   },
   {
    "duration": 18,
    "start_time": "2024-08-05T21:57:28.395Z"
   },
   {
    "duration": 5,
    "start_time": "2024-08-05T21:57:28.420Z"
   },
   {
    "duration": 35,
    "start_time": "2024-08-05T21:57:28.428Z"
   },
   {
    "duration": 5,
    "start_time": "2024-08-05T21:57:28.466Z"
   },
   {
    "duration": 36,
    "start_time": "2024-08-05T21:57:28.502Z"
   },
   {
    "duration": 68,
    "start_time": "2024-08-05T21:57:28.541Z"
   },
   {
    "duration": 37,
    "start_time": "2024-08-05T21:57:28.616Z"
   },
   {
    "duration": 90,
    "start_time": "2024-08-05T21:57:28.658Z"
   },
   {
    "duration": 117,
    "start_time": "2024-08-05T21:57:28.755Z"
   },
   {
    "duration": 103,
    "start_time": "2024-08-05T21:57:28.875Z"
   },
   {
    "duration": 73,
    "start_time": "2024-08-05T21:57:28.981Z"
   },
   {
    "duration": 5,
    "start_time": "2024-08-05T21:57:29.057Z"
   },
   {
    "duration": 80,
    "start_time": "2024-08-05T21:57:29.066Z"
   },
   {
    "duration": 82,
    "start_time": "2024-08-05T21:57:29.149Z"
   },
   {
    "duration": 117,
    "start_time": "2024-08-05T21:57:29.234Z"
   },
   {
    "duration": 219,
    "start_time": "2024-08-05T21:57:29.354Z"
   },
   {
    "duration": 0,
    "start_time": "2024-08-05T21:57:29.576Z"
   },
   {
    "duration": 0,
    "start_time": "2024-08-05T21:57:29.594Z"
   },
   {
    "duration": 0,
    "start_time": "2024-08-05T21:57:29.596Z"
   },
   {
    "duration": 0,
    "start_time": "2024-08-05T21:57:29.601Z"
   },
   {
    "duration": 0,
    "start_time": "2024-08-05T21:57:29.603Z"
   },
   {
    "duration": 0,
    "start_time": "2024-08-05T21:57:29.609Z"
   },
   {
    "duration": 0,
    "start_time": "2024-08-05T21:57:29.613Z"
   },
   {
    "duration": 0,
    "start_time": "2024-08-05T21:57:29.617Z"
   },
   {
    "duration": 70,
    "start_time": "2024-08-05T21:57:59.481Z"
   },
   {
    "duration": 797,
    "start_time": "2024-08-05T21:58:09.945Z"
   },
   {
    "duration": 93,
    "start_time": "2024-08-05T21:59:17.100Z"
   },
   {
    "duration": 101,
    "start_time": "2024-08-05T21:59:47.219Z"
   },
   {
    "duration": 48,
    "start_time": "2024-08-05T21:59:56.755Z"
   },
   {
    "duration": 15,
    "start_time": "2024-08-05T22:00:26.612Z"
   },
   {
    "duration": 15,
    "start_time": "2024-08-05T22:07:10.505Z"
   },
   {
    "duration": 68,
    "start_time": "2024-08-05T22:07:20.125Z"
   },
   {
    "duration": 67,
    "start_time": "2024-08-05T22:07:30.487Z"
   },
   {
    "duration": 15,
    "start_time": "2024-08-05T22:07:39.001Z"
   },
   {
    "duration": 493,
    "start_time": "2024-08-06T02:37:46.861Z"
   },
   {
    "duration": 197,
    "start_time": "2024-08-06T02:37:47.358Z"
   },
   {
    "duration": 11,
    "start_time": "2024-08-06T02:37:47.567Z"
   },
   {
    "duration": 34,
    "start_time": "2024-08-06T02:37:47.580Z"
   },
   {
    "duration": 5,
    "start_time": "2024-08-06T02:37:47.618Z"
   },
   {
    "duration": 5,
    "start_time": "2024-08-06T02:37:47.627Z"
   },
   {
    "duration": 6,
    "start_time": "2024-08-06T02:37:47.669Z"
   },
   {
    "duration": 36,
    "start_time": "2024-08-06T02:37:47.678Z"
   },
   {
    "duration": 5,
    "start_time": "2024-08-06T02:37:47.717Z"
   },
   {
    "duration": 27,
    "start_time": "2024-08-06T02:37:47.767Z"
   },
   {
    "duration": 73,
    "start_time": "2024-08-06T02:37:47.797Z"
   },
   {
    "duration": 36,
    "start_time": "2024-08-06T02:37:47.874Z"
   },
   {
    "duration": 108,
    "start_time": "2024-08-06T02:37:47.913Z"
   },
   {
    "duration": 103,
    "start_time": "2024-08-06T02:37:48.027Z"
   },
   {
    "duration": 88,
    "start_time": "2024-08-06T02:37:48.132Z"
   },
   {
    "duration": 67,
    "start_time": "2024-08-06T02:37:48.223Z"
   },
   {
    "duration": 5,
    "start_time": "2024-08-06T02:37:48.292Z"
   },
   {
    "duration": 44,
    "start_time": "2024-08-06T02:37:48.302Z"
   },
   {
    "duration": 60,
    "start_time": "2024-08-06T02:37:48.369Z"
   },
   {
    "duration": 118,
    "start_time": "2024-08-06T02:37:48.432Z"
   },
   {
    "duration": 66,
    "start_time": "2024-08-06T02:37:48.557Z"
   },
   {
    "duration": 14,
    "start_time": "2024-08-06T02:37:48.626Z"
   },
   {
    "duration": 25,
    "start_time": "2024-08-06T02:37:48.643Z"
   },
   {
    "duration": 5,
    "start_time": "2024-08-06T02:37:48.671Z"
   },
   {
    "duration": 4,
    "start_time": "2024-08-06T02:37:48.679Z"
   },
   {
    "duration": 4,
    "start_time": "2024-08-06T02:37:48.686Z"
   },
   {
    "duration": 3,
    "start_time": "2024-08-06T02:37:48.694Z"
   },
   {
    "duration": 5,
    "start_time": "2024-08-06T02:37:48.700Z"
   },
   {
    "duration": 4,
    "start_time": "2024-08-06T02:37:48.708Z"
   },
   {
    "duration": 5,
    "start_time": "2024-08-06T02:52:22.582Z"
   },
   {
    "duration": 6,
    "start_time": "2024-08-06T02:52:27.053Z"
   },
   {
    "duration": 347,
    "start_time": "2024-08-06T02:53:33.813Z"
   },
   {
    "duration": 36,
    "start_time": "2024-08-06T02:53:52.713Z"
   },
   {
    "duration": 420,
    "start_time": "2024-08-06T02:54:10.120Z"
   },
   {
    "duration": 176,
    "start_time": "2024-08-06T02:54:10.543Z"
   },
   {
    "duration": 11,
    "start_time": "2024-08-06T02:54:10.722Z"
   },
   {
    "duration": 49,
    "start_time": "2024-08-06T02:54:10.736Z"
   },
   {
    "duration": 4,
    "start_time": "2024-08-06T02:54:10.791Z"
   },
   {
    "duration": 7,
    "start_time": "2024-08-06T02:54:10.799Z"
   },
   {
    "duration": 6,
    "start_time": "2024-08-06T02:54:10.809Z"
   },
   {
    "duration": 75,
    "start_time": "2024-08-06T02:54:10.818Z"
   },
   {
    "duration": 5,
    "start_time": "2024-08-06T02:54:10.896Z"
   },
   {
    "duration": 26,
    "start_time": "2024-08-06T02:54:10.904Z"
   },
   {
    "duration": 44,
    "start_time": "2024-08-06T02:54:10.967Z"
   },
   {
    "duration": 54,
    "start_time": "2024-08-06T02:54:11.014Z"
   },
   {
    "duration": 73,
    "start_time": "2024-08-06T02:54:11.071Z"
   },
   {
    "duration": 81,
    "start_time": "2024-08-06T02:54:11.172Z"
   },
   {
    "duration": 77,
    "start_time": "2024-08-06T02:54:11.256Z"
   },
   {
    "duration": 71,
    "start_time": "2024-08-06T02:54:11.337Z"
   },
   {
    "duration": 5,
    "start_time": "2024-08-06T02:54:11.411Z"
   },
   {
    "duration": 67,
    "start_time": "2024-08-06T02:54:11.419Z"
   },
   {
    "duration": 52,
    "start_time": "2024-08-06T02:54:11.489Z"
   },
   {
    "duration": 124,
    "start_time": "2024-08-06T02:54:11.545Z"
   },
   {
    "duration": 56,
    "start_time": "2024-08-06T02:54:11.673Z"
   },
   {
    "duration": 36,
    "start_time": "2024-08-06T02:54:11.732Z"
   },
   {
    "duration": 376,
    "start_time": "2024-08-06T02:54:11.770Z"
   },
   {
    "duration": 0,
    "start_time": "2024-08-06T02:54:12.149Z"
   },
   {
    "duration": 0,
    "start_time": "2024-08-06T02:54:12.152Z"
   },
   {
    "duration": 0,
    "start_time": "2024-08-06T02:54:12.154Z"
   },
   {
    "duration": 0,
    "start_time": "2024-08-06T02:54:12.156Z"
   },
   {
    "duration": 0,
    "start_time": "2024-08-06T02:54:12.157Z"
   },
   {
    "duration": 0,
    "start_time": "2024-08-06T02:54:12.158Z"
   },
   {
    "duration": 38,
    "start_time": "2024-08-06T02:54:52.839Z"
   },
   {
    "duration": 38,
    "start_time": "2024-08-06T02:54:58.013Z"
   },
   {
    "duration": 37,
    "start_time": "2024-08-06T02:56:18.182Z"
   },
   {
    "duration": 41,
    "start_time": "2024-08-06T02:57:17.734Z"
   },
   {
    "duration": 39,
    "start_time": "2024-08-06T02:59:42.179Z"
   },
   {
    "duration": 37,
    "start_time": "2024-08-06T02:59:55.324Z"
   },
   {
    "duration": 3,
    "start_time": "2024-08-06T03:00:52.358Z"
   },
   {
    "duration": 26,
    "start_time": "2024-08-06T03:04:29.664Z"
   },
   {
    "duration": 26,
    "start_time": "2024-08-06T03:04:40.863Z"
   },
   {
    "duration": 27,
    "start_time": "2024-08-06T03:04:52.730Z"
   },
   {
    "duration": 28,
    "start_time": "2024-08-06T03:05:06.983Z"
   },
   {
    "duration": 210,
    "start_time": "2024-08-06T03:05:25.777Z"
   },
   {
    "duration": 41,
    "start_time": "2024-08-06T03:06:08.484Z"
   },
   {
    "duration": 134,
    "start_time": "2024-08-06T03:06:16.302Z"
   },
   {
    "duration": 145,
    "start_time": "2024-08-06T03:07:21.459Z"
   },
   {
    "duration": 105,
    "start_time": "2024-08-06T03:08:21.465Z"
   },
   {
    "duration": 36,
    "start_time": "2024-08-06T03:09:12.190Z"
   },
   {
    "duration": 19,
    "start_time": "2024-08-06T03:10:03.216Z"
   },
   {
    "duration": 36,
    "start_time": "2024-08-06T03:11:14.682Z"
   },
   {
    "duration": 33,
    "start_time": "2024-08-06T03:13:15.403Z"
   },
   {
    "duration": 41,
    "start_time": "2024-08-06T03:13:32.808Z"
   },
   {
    "duration": 35,
    "start_time": "2024-08-06T03:13:48.475Z"
   },
   {
    "duration": 33,
    "start_time": "2024-08-06T03:14:43.869Z"
   },
   {
    "duration": 32,
    "start_time": "2024-08-06T03:15:10.375Z"
   },
   {
    "duration": 26,
    "start_time": "2024-08-06T03:15:45.533Z"
   },
   {
    "duration": 40,
    "start_time": "2024-08-06T03:16:04.440Z"
   },
   {
    "duration": 28,
    "start_time": "2024-08-06T03:16:10.097Z"
   },
   {
    "duration": 25,
    "start_time": "2024-08-06T03:16:42.993Z"
   },
   {
    "duration": 22,
    "start_time": "2024-08-06T03:19:44.284Z"
   },
   {
    "duration": 6,
    "start_time": "2024-08-06T03:22:02.255Z"
   },
   {
    "duration": 5,
    "start_time": "2024-08-06T03:22:29.011Z"
   },
   {
    "duration": 450,
    "start_time": "2024-08-06T03:22:42.091Z"
   },
   {
    "duration": 164,
    "start_time": "2024-08-06T03:22:42.544Z"
   },
   {
    "duration": 12,
    "start_time": "2024-08-06T03:22:42.711Z"
   },
   {
    "duration": 49,
    "start_time": "2024-08-06T03:22:42.727Z"
   },
   {
    "duration": 5,
    "start_time": "2024-08-06T03:22:42.780Z"
   },
   {
    "duration": 6,
    "start_time": "2024-08-06T03:22:42.788Z"
   },
   {
    "duration": 5,
    "start_time": "2024-08-06T03:22:42.797Z"
   },
   {
    "duration": 73,
    "start_time": "2024-08-06T03:22:42.806Z"
   },
   {
    "duration": 5,
    "start_time": "2024-08-06T03:22:42.883Z"
   },
   {
    "duration": 27,
    "start_time": "2024-08-06T03:22:42.897Z"
   },
   {
    "duration": 44,
    "start_time": "2024-08-06T03:22:42.967Z"
   },
   {
    "duration": 33,
    "start_time": "2024-08-06T03:22:43.014Z"
   },
   {
    "duration": 93,
    "start_time": "2024-08-06T03:22:43.050Z"
   },
   {
    "duration": 98,
    "start_time": "2024-08-06T03:22:43.146Z"
   },
   {
    "duration": 81,
    "start_time": "2024-08-06T03:22:43.248Z"
   },
   {
    "duration": 66,
    "start_time": "2024-08-06T03:22:43.331Z"
   },
   {
    "duration": 5,
    "start_time": "2024-08-06T03:22:43.400Z"
   },
   {
    "duration": 65,
    "start_time": "2024-08-06T03:22:43.409Z"
   },
   {
    "duration": 50,
    "start_time": "2024-08-06T03:22:43.477Z"
   },
   {
    "duration": 120,
    "start_time": "2024-08-06T03:22:43.530Z"
   },
   {
    "duration": 61,
    "start_time": "2024-08-06T03:22:43.652Z"
   },
   {
    "duration": 13,
    "start_time": "2024-08-06T03:22:43.716Z"
   },
   {
    "duration": 376,
    "start_time": "2024-08-06T03:22:43.732Z"
   },
   {
    "duration": 0,
    "start_time": "2024-08-06T03:22:44.111Z"
   },
   {
    "duration": 0,
    "start_time": "2024-08-06T03:22:44.114Z"
   },
   {
    "duration": 0,
    "start_time": "2024-08-06T03:22:44.116Z"
   },
   {
    "duration": 0,
    "start_time": "2024-08-06T03:22:44.119Z"
   },
   {
    "duration": 0,
    "start_time": "2024-08-06T03:22:44.122Z"
   },
   {
    "duration": 0,
    "start_time": "2024-08-06T03:22:44.125Z"
   },
   {
    "duration": 4,
    "start_time": "2024-08-06T03:23:17.617Z"
   },
   {
    "duration": 441,
    "start_time": "2024-08-06T03:23:24.787Z"
   },
   {
    "duration": 169,
    "start_time": "2024-08-06T03:23:25.231Z"
   },
   {
    "duration": 12,
    "start_time": "2024-08-06T03:23:25.403Z"
   },
   {
    "duration": 53,
    "start_time": "2024-08-06T03:23:25.418Z"
   },
   {
    "duration": 4,
    "start_time": "2024-08-06T03:23:25.477Z"
   },
   {
    "duration": 5,
    "start_time": "2024-08-06T03:23:25.485Z"
   },
   {
    "duration": 5,
    "start_time": "2024-08-06T03:23:25.493Z"
   },
   {
    "duration": 74,
    "start_time": "2024-08-06T03:23:25.502Z"
   },
   {
    "duration": 5,
    "start_time": "2024-08-06T03:23:25.579Z"
   },
   {
    "duration": 26,
    "start_time": "2024-08-06T03:23:25.590Z"
   },
   {
    "duration": 73,
    "start_time": "2024-08-06T03:23:25.618Z"
   },
   {
    "duration": 32,
    "start_time": "2024-08-06T03:23:25.694Z"
   },
   {
    "duration": 104,
    "start_time": "2024-08-06T03:23:25.729Z"
   },
   {
    "duration": 110,
    "start_time": "2024-08-06T03:23:25.838Z"
   },
   {
    "duration": 88,
    "start_time": "2024-08-06T03:23:25.952Z"
   },
   {
    "duration": 63,
    "start_time": "2024-08-06T03:23:26.044Z"
   },
   {
    "duration": 5,
    "start_time": "2024-08-06T03:23:26.110Z"
   },
   {
    "duration": 81,
    "start_time": "2024-08-06T03:23:26.119Z"
   },
   {
    "duration": 65,
    "start_time": "2024-08-06T03:23:26.203Z"
   },
   {
    "duration": 116,
    "start_time": "2024-08-06T03:23:26.271Z"
   },
   {
    "duration": 56,
    "start_time": "2024-08-06T03:23:26.391Z"
   },
   {
    "duration": 30,
    "start_time": "2024-08-06T03:23:26.450Z"
   },
   {
    "duration": 6,
    "start_time": "2024-08-06T03:23:26.483Z"
   },
   {
    "duration": 3,
    "start_time": "2024-08-06T03:23:26.493Z"
   },
   {
    "duration": 3,
    "start_time": "2024-08-06T03:23:26.500Z"
   },
   {
    "duration": 4,
    "start_time": "2024-08-06T03:23:26.507Z"
   },
   {
    "duration": 55,
    "start_time": "2024-08-06T03:23:26.513Z"
   },
   {
    "duration": 4,
    "start_time": "2024-08-06T03:23:26.573Z"
   },
   {
    "duration": 4,
    "start_time": "2024-08-06T03:23:26.581Z"
   },
   {
    "duration": 4,
    "start_time": "2024-08-06T03:24:38.941Z"
   },
   {
    "duration": 6,
    "start_time": "2024-08-06T03:25:36.809Z"
   },
   {
    "duration": 12,
    "start_time": "2024-08-06T03:25:47.679Z"
   },
   {
    "duration": 5,
    "start_time": "2024-08-06T03:26:06.003Z"
   },
   {
    "duration": 13,
    "start_time": "2024-08-06T03:26:09.897Z"
   },
   {
    "duration": 11,
    "start_time": "2024-08-06T03:26:40.537Z"
   },
   {
    "duration": 5,
    "start_time": "2024-08-06T03:27:57.468Z"
   },
   {
    "duration": 359,
    "start_time": "2024-08-06T03:28:01.113Z"
   },
   {
    "duration": 4,
    "start_time": "2024-08-06T03:28:14.041Z"
   },
   {
    "duration": 40,
    "start_time": "2024-08-06T03:28:16.097Z"
   },
   {
    "duration": 45,
    "start_time": "2024-08-06T03:28:27.244Z"
   },
   {
    "duration": 487,
    "start_time": "2024-08-06T03:28:34.350Z"
   },
   {
    "duration": 168,
    "start_time": "2024-08-06T03:28:34.840Z"
   },
   {
    "duration": 11,
    "start_time": "2024-08-06T03:28:35.011Z"
   },
   {
    "duration": 54,
    "start_time": "2024-08-06T03:28:35.027Z"
   },
   {
    "duration": 4,
    "start_time": "2024-08-06T03:28:35.088Z"
   },
   {
    "duration": 5,
    "start_time": "2024-08-06T03:28:35.096Z"
   },
   {
    "duration": 5,
    "start_time": "2024-08-06T03:28:35.104Z"
   },
   {
    "duration": 78,
    "start_time": "2024-08-06T03:28:35.112Z"
   },
   {
    "duration": 5,
    "start_time": "2024-08-06T03:28:35.193Z"
   },
   {
    "duration": 26,
    "start_time": "2024-08-06T03:28:35.201Z"
   },
   {
    "duration": 79,
    "start_time": "2024-08-06T03:28:35.230Z"
   },
   {
    "duration": 32,
    "start_time": "2024-08-06T03:28:35.311Z"
   },
   {
    "duration": 76,
    "start_time": "2024-08-06T03:28:35.369Z"
   },
   {
    "duration": 82,
    "start_time": "2024-08-06T03:28:35.470Z"
   },
   {
    "duration": 79,
    "start_time": "2024-08-06T03:28:35.555Z"
   },
   {
    "duration": 74,
    "start_time": "2024-08-06T03:28:35.637Z"
   },
   {
    "duration": 6,
    "start_time": "2024-08-06T03:28:35.714Z"
   },
   {
    "duration": 70,
    "start_time": "2024-08-06T03:28:35.724Z"
   },
   {
    "duration": 50,
    "start_time": "2024-08-06T03:28:35.796Z"
   },
   {
    "duration": 117,
    "start_time": "2024-08-06T03:28:35.869Z"
   },
   {
    "duration": 54,
    "start_time": "2024-08-06T03:28:35.989Z"
   },
   {
    "duration": 31,
    "start_time": "2024-08-06T03:28:36.047Z"
   },
   {
    "duration": 397,
    "start_time": "2024-08-06T03:28:36.082Z"
   },
   {
    "duration": 0,
    "start_time": "2024-08-06T03:28:36.483Z"
   },
   {
    "duration": 0,
    "start_time": "2024-08-06T03:28:36.485Z"
   },
   {
    "duration": 0,
    "start_time": "2024-08-06T03:28:36.487Z"
   },
   {
    "duration": 0,
    "start_time": "2024-08-06T03:28:36.490Z"
   },
   {
    "duration": 0,
    "start_time": "2024-08-06T03:28:36.492Z"
   },
   {
    "duration": 0,
    "start_time": "2024-08-06T03:28:36.495Z"
   },
   {
    "duration": 12,
    "start_time": "2024-08-06T03:28:45.197Z"
   },
   {
    "duration": 23,
    "start_time": "2024-08-06T03:29:14.422Z"
   },
   {
    "duration": 13,
    "start_time": "2024-08-06T03:29:36.792Z"
   },
   {
    "duration": 22,
    "start_time": "2024-08-06T03:29:40.725Z"
   },
   {
    "duration": 23,
    "start_time": "2024-08-06T03:30:32.910Z"
   },
   {
    "duration": 4,
    "start_time": "2024-08-06T03:31:01.855Z"
   },
   {
    "duration": 21,
    "start_time": "2024-08-06T03:31:07.016Z"
   },
   {
    "duration": 4,
    "start_time": "2024-08-06T03:31:13.787Z"
   },
   {
    "duration": 5,
    "start_time": "2024-08-06T03:31:17.169Z"
   },
   {
    "duration": 22,
    "start_time": "2024-08-06T03:31:19.043Z"
   },
   {
    "duration": 18,
    "start_time": "2024-08-06T03:31:21.788Z"
   },
   {
    "duration": 24,
    "start_time": "2024-08-06T03:32:17.971Z"
   },
   {
    "duration": 21,
    "start_time": "2024-08-06T03:32:32.890Z"
   },
   {
    "duration": 18,
    "start_time": "2024-08-06T03:33:05.733Z"
   },
   {
    "duration": 468,
    "start_time": "2024-08-06T03:33:41.557Z"
   },
   {
    "duration": 174,
    "start_time": "2024-08-06T03:33:42.028Z"
   },
   {
    "duration": 11,
    "start_time": "2024-08-06T03:33:42.205Z"
   },
   {
    "duration": 53,
    "start_time": "2024-08-06T03:33:42.222Z"
   },
   {
    "duration": 5,
    "start_time": "2024-08-06T03:33:42.279Z"
   },
   {
    "duration": 6,
    "start_time": "2024-08-06T03:33:42.287Z"
   },
   {
    "duration": 5,
    "start_time": "2024-08-06T03:33:42.297Z"
   },
   {
    "duration": 75,
    "start_time": "2024-08-06T03:33:42.306Z"
   },
   {
    "duration": 5,
    "start_time": "2024-08-06T03:33:42.384Z"
   },
   {
    "duration": 25,
    "start_time": "2024-08-06T03:33:42.395Z"
   },
   {
    "duration": 78,
    "start_time": "2024-08-06T03:33:42.423Z"
   },
   {
    "duration": 31,
    "start_time": "2024-08-06T03:33:42.506Z"
   },
   {
    "duration": 94,
    "start_time": "2024-08-06T03:33:42.542Z"
   },
   {
    "duration": 98,
    "start_time": "2024-08-06T03:33:42.639Z"
   },
   {
    "duration": 82,
    "start_time": "2024-08-06T03:33:42.740Z"
   },
   {
    "duration": 68,
    "start_time": "2024-08-06T03:33:42.826Z"
   },
   {
    "duration": 7,
    "start_time": "2024-08-06T03:33:42.897Z"
   },
   {
    "duration": 64,
    "start_time": "2024-08-06T03:33:42.908Z"
   },
   {
    "duration": 51,
    "start_time": "2024-08-06T03:33:42.976Z"
   },
   {
    "duration": 117,
    "start_time": "2024-08-06T03:33:43.030Z"
   },
   {
    "duration": 67,
    "start_time": "2024-08-06T03:33:43.150Z"
   },
   {
    "duration": 13,
    "start_time": "2024-08-06T03:33:43.220Z"
   },
   {
    "duration": 5,
    "start_time": "2024-08-06T03:33:43.236Z"
   },
   {
    "duration": 45,
    "start_time": "2024-08-06T03:33:43.244Z"
   },
   {
    "duration": 20,
    "start_time": "2024-08-06T03:33:43.292Z"
   },
   {
    "duration": 56,
    "start_time": "2024-08-06T03:33:43.315Z"
   },
   {
    "duration": 19,
    "start_time": "2024-08-06T03:33:43.374Z"
   },
   {
    "duration": 22,
    "start_time": "2024-08-06T03:33:43.399Z"
   },
   {
    "duration": 52,
    "start_time": "2024-08-06T03:33:43.423Z"
   },
   {
    "duration": 335,
    "start_time": "2024-08-06T03:58:10.332Z"
   },
   {
    "duration": 660,
    "start_time": "2024-08-06T03:58:15.838Z"
   },
   {
    "duration": 464,
    "start_time": "2024-08-06T03:58:42.466Z"
   },
   {
    "duration": 23,
    "start_time": "2024-08-06T03:59:43.302Z"
   },
   {
    "duration": 25,
    "start_time": "2024-08-06T04:00:24.316Z"
   },
   {
    "duration": 24,
    "start_time": "2024-08-06T04:00:32.129Z"
   },
   {
    "duration": 39,
    "start_time": "2024-08-06T04:00:56.798Z"
   },
   {
    "duration": 40,
    "start_time": "2024-08-06T04:01:03.496Z"
   },
   {
    "duration": 40,
    "start_time": "2024-08-06T04:02:40.484Z"
   },
   {
    "duration": 162,
    "start_time": "2024-08-06T04:03:46.629Z"
   },
   {
    "duration": 39,
    "start_time": "2024-08-06T04:03:53.989Z"
   },
   {
    "duration": 41,
    "start_time": "2024-08-06T04:04:19.253Z"
   },
   {
    "duration": 38,
    "start_time": "2024-08-06T04:04:49.988Z"
   },
   {
    "duration": 41,
    "start_time": "2024-08-06T04:05:06.409Z"
   },
   {
    "duration": 39,
    "start_time": "2024-08-06T04:06:13.138Z"
   },
   {
    "duration": 111,
    "start_time": "2024-08-06T04:11:18.964Z"
   },
   {
    "duration": 39,
    "start_time": "2024-08-06T04:11:29.361Z"
   },
   {
    "duration": 39,
    "start_time": "2024-08-06T04:14:12.694Z"
   },
   {
    "duration": 40,
    "start_time": "2024-08-06T04:15:45.823Z"
   },
   {
    "duration": 40,
    "start_time": "2024-08-06T04:16:03.510Z"
   },
   {
    "duration": 39,
    "start_time": "2024-08-06T04:16:14.685Z"
   },
   {
    "duration": 42,
    "start_time": "2024-08-06T04:16:25.740Z"
   },
   {
    "duration": 40,
    "start_time": "2024-08-06T04:29:17.901Z"
   },
   {
    "duration": 40,
    "start_time": "2024-08-06T04:29:36.806Z"
   },
   {
    "duration": 41,
    "start_time": "2024-08-06T04:30:05.711Z"
   },
   {
    "duration": 45,
    "start_time": "2024-08-06T04:30:12.141Z"
   },
   {
    "duration": 450,
    "start_time": "2024-08-06T05:01:47.618Z"
   },
   {
    "duration": 176,
    "start_time": "2024-08-06T05:01:48.072Z"
   },
   {
    "duration": 20,
    "start_time": "2024-08-06T05:01:48.251Z"
   },
   {
    "duration": 35,
    "start_time": "2024-08-06T05:01:48.276Z"
   },
   {
    "duration": 6,
    "start_time": "2024-08-06T05:01:48.314Z"
   },
   {
    "duration": 5,
    "start_time": "2024-08-06T05:01:48.324Z"
   },
   {
    "duration": 43,
    "start_time": "2024-08-06T05:01:48.332Z"
   },
   {
    "duration": 35,
    "start_time": "2024-08-06T05:01:48.378Z"
   },
   {
    "duration": 4,
    "start_time": "2024-08-06T05:01:48.416Z"
   },
   {
    "duration": 31,
    "start_time": "2024-08-06T05:01:48.470Z"
   },
   {
    "duration": 44,
    "start_time": "2024-08-06T05:01:48.504Z"
   },
   {
    "duration": 34,
    "start_time": "2024-08-06T05:01:48.569Z"
   },
   {
    "duration": 100,
    "start_time": "2024-08-06T05:01:48.606Z"
   },
   {
    "duration": 97,
    "start_time": "2024-08-06T05:01:48.709Z"
   },
   {
    "duration": 88,
    "start_time": "2024-08-06T05:01:48.810Z"
   },
   {
    "duration": 52,
    "start_time": "2024-08-06T05:01:48.901Z"
   },
   {
    "duration": 13,
    "start_time": "2024-08-06T05:01:48.956Z"
   },
   {
    "duration": 45,
    "start_time": "2024-08-06T05:01:48.973Z"
   },
   {
    "duration": 83,
    "start_time": "2024-08-06T05:01:49.021Z"
   },
   {
    "duration": 109,
    "start_time": "2024-08-06T05:01:49.107Z"
   },
   {
    "duration": 68,
    "start_time": "2024-08-06T05:01:49.219Z"
   },
   {
    "duration": 13,
    "start_time": "2024-08-06T05:01:49.290Z"
   },
   {
    "duration": 5,
    "start_time": "2024-08-06T05:01:49.306Z"
   },
   {
    "duration": 57,
    "start_time": "2024-08-06T05:01:49.314Z"
   },
   {
    "duration": 20,
    "start_time": "2024-08-06T05:01:49.373Z"
   },
   {
    "duration": 22,
    "start_time": "2024-08-06T05:01:49.396Z"
   },
   {
    "duration": 54,
    "start_time": "2024-08-06T05:01:49.421Z"
   },
   {
    "duration": 26,
    "start_time": "2024-08-06T05:01:49.482Z"
   },
   {
    "duration": 19,
    "start_time": "2024-08-06T05:01:49.511Z"
   },
   {
    "duration": 69,
    "start_time": "2024-08-06T05:01:49.533Z"
   },
   {
    "duration": 12,
    "start_time": "2024-08-07T04:43:00.699Z"
   },
   {
    "duration": 480,
    "start_time": "2024-08-08T02:20:45.547Z"
   },
   {
    "duration": 196,
    "start_time": "2024-08-08T02:20:46.031Z"
   },
   {
    "duration": 16,
    "start_time": "2024-08-08T02:20:46.230Z"
   },
   {
    "duration": 37,
    "start_time": "2024-08-08T02:20:46.250Z"
   },
   {
    "duration": 5,
    "start_time": "2024-08-08T02:20:46.290Z"
   },
   {
    "duration": 37,
    "start_time": "2024-08-08T02:20:46.299Z"
   },
   {
    "duration": 6,
    "start_time": "2024-08-08T02:20:46.339Z"
   },
   {
    "duration": 49,
    "start_time": "2024-08-08T02:20:46.355Z"
   },
   {
    "duration": 4,
    "start_time": "2024-08-08T02:20:46.435Z"
   },
   {
    "duration": 26,
    "start_time": "2024-08-08T02:20:46.447Z"
   },
   {
    "duration": 72,
    "start_time": "2024-08-08T02:20:46.476Z"
   },
   {
    "duration": 32,
    "start_time": "2024-08-08T02:20:46.550Z"
   },
   {
    "duration": 103,
    "start_time": "2024-08-08T02:20:46.585Z"
   },
   {
    "duration": 94,
    "start_time": "2024-08-08T02:20:46.691Z"
   },
   {
    "duration": 80,
    "start_time": "2024-08-08T02:20:46.788Z"
   },
   {
    "duration": 63,
    "start_time": "2024-08-08T02:20:46.871Z"
   },
   {
    "duration": 5,
    "start_time": "2024-08-08T02:20:46.937Z"
   },
   {
    "duration": 45,
    "start_time": "2024-08-08T02:20:46.945Z"
   },
   {
    "duration": 75,
    "start_time": "2024-08-08T02:20:46.994Z"
   },
   {
    "duration": 109,
    "start_time": "2024-08-08T02:20:47.072Z"
   },
   {
    "duration": 63,
    "start_time": "2024-08-08T02:20:47.184Z"
   },
   {
    "duration": 13,
    "start_time": "2024-08-08T02:20:47.250Z"
   },
   {
    "duration": 7,
    "start_time": "2024-08-08T02:20:47.266Z"
   },
   {
    "duration": 21,
    "start_time": "2024-08-08T02:20:47.276Z"
   },
   {
    "duration": 51,
    "start_time": "2024-08-08T02:20:47.299Z"
   },
   {
    "duration": 18,
    "start_time": "2024-08-08T02:20:47.354Z"
   },
   {
    "duration": 17,
    "start_time": "2024-08-08T02:20:47.375Z"
   },
   {
    "duration": 25,
    "start_time": "2024-08-08T02:20:47.434Z"
   },
   {
    "duration": 21,
    "start_time": "2024-08-08T02:20:47.461Z"
   },
   {
    "duration": 67,
    "start_time": "2024-08-08T02:20:47.484Z"
   },
   {
    "duration": 14,
    "start_time": "2024-08-08T02:22:11.793Z"
   },
   {
    "duration": 449,
    "start_time": "2024-08-08T02:37:26.074Z"
   },
   {
    "duration": 174,
    "start_time": "2024-08-08T02:37:26.527Z"
   },
   {
    "duration": 32,
    "start_time": "2024-08-08T02:37:26.704Z"
   },
   {
    "duration": 36,
    "start_time": "2024-08-08T02:37:26.739Z"
   },
   {
    "duration": 4,
    "start_time": "2024-08-08T02:37:26.780Z"
   },
   {
    "duration": 8,
    "start_time": "2024-08-08T02:37:26.786Z"
   },
   {
    "duration": 40,
    "start_time": "2024-08-08T02:37:26.797Z"
   },
   {
    "duration": 36,
    "start_time": "2024-08-08T02:37:26.840Z"
   },
   {
    "duration": 4,
    "start_time": "2024-08-08T02:37:26.879Z"
   },
   {
    "duration": 55,
    "start_time": "2024-08-08T02:37:26.887Z"
   },
   {
    "duration": 45,
    "start_time": "2024-08-08T02:37:26.945Z"
   },
   {
    "duration": 58,
    "start_time": "2024-08-08T02:37:26.993Z"
   },
   {
    "duration": 91,
    "start_time": "2024-08-08T02:37:27.054Z"
   },
   {
    "duration": 92,
    "start_time": "2024-08-08T02:37:27.151Z"
   },
   {
    "duration": 68,
    "start_time": "2024-08-08T02:37:27.246Z"
   },
   {
    "duration": 50,
    "start_time": "2024-08-08T02:37:27.334Z"
   },
   {
    "duration": 5,
    "start_time": "2024-08-08T02:37:27.387Z"
   },
   {
    "duration": 62,
    "start_time": "2024-08-08T02:37:27.395Z"
   },
   {
    "duration": 52,
    "start_time": "2024-08-08T02:37:27.460Z"
   },
   {
    "duration": 125,
    "start_time": "2024-08-08T02:37:27.515Z"
   },
   {
    "duration": 57,
    "start_time": "2024-08-08T02:37:27.643Z"
   },
   {
    "duration": 33,
    "start_time": "2024-08-08T02:37:27.703Z"
   },
   {
    "duration": 5,
    "start_time": "2024-08-08T02:37:27.739Z"
   },
   {
    "duration": 21,
    "start_time": "2024-08-08T02:37:27.747Z"
   },
   {
    "duration": 18,
    "start_time": "2024-08-08T02:37:27.771Z"
   },
   {
    "duration": 55,
    "start_time": "2024-08-08T02:37:27.792Z"
   },
   {
    "duration": 18,
    "start_time": "2024-08-08T02:37:27.850Z"
   },
   {
    "duration": 21,
    "start_time": "2024-08-08T02:37:27.871Z"
   },
   {
    "duration": 55,
    "start_time": "2024-08-08T02:37:27.895Z"
   },
   {
    "duration": 40,
    "start_time": "2024-08-08T02:37:27.954Z"
   },
   {
    "duration": 433,
    "start_time": "2024-08-08T02:46:42.903Z"
   },
   {
    "duration": 163,
    "start_time": "2024-08-08T02:46:43.340Z"
   },
   {
    "duration": 29,
    "start_time": "2024-08-08T02:46:43.506Z"
   },
   {
    "duration": 33,
    "start_time": "2024-08-08T02:46:43.539Z"
   },
   {
    "duration": 6,
    "start_time": "2024-08-08T02:46:43.575Z"
   },
   {
    "duration": 6,
    "start_time": "2024-08-08T02:46:43.584Z"
   },
   {
    "duration": 7,
    "start_time": "2024-08-08T02:46:43.635Z"
   },
   {
    "duration": 38,
    "start_time": "2024-08-08T02:46:43.646Z"
   },
   {
    "duration": 5,
    "start_time": "2024-08-08T02:46:43.687Z"
   },
   {
    "duration": 26,
    "start_time": "2024-08-08T02:46:43.740Z"
   },
   {
    "duration": 75,
    "start_time": "2024-08-08T02:46:43.769Z"
   },
   {
    "duration": 32,
    "start_time": "2024-08-08T02:46:43.847Z"
   },
   {
    "duration": 113,
    "start_time": "2024-08-08T02:46:43.882Z"
   },
   {
    "duration": 95,
    "start_time": "2024-08-08T02:46:43.998Z"
   },
   {
    "duration": 82,
    "start_time": "2024-08-08T02:46:44.096Z"
   },
   {
    "duration": 63,
    "start_time": "2024-08-08T02:46:44.182Z"
   },
   {
    "duration": 6,
    "start_time": "2024-08-08T02:46:44.248Z"
   },
   {
    "duration": 39,
    "start_time": "2024-08-08T02:46:44.257Z"
   },
   {
    "duration": 83,
    "start_time": "2024-08-08T02:46:44.299Z"
   },
   {
    "duration": 125,
    "start_time": "2024-08-08T02:46:44.385Z"
   },
   {
    "duration": 72,
    "start_time": "2024-08-08T02:46:44.513Z"
   },
   {
    "duration": 13,
    "start_time": "2024-08-08T02:46:44.588Z"
   },
   {
    "duration": 30,
    "start_time": "2024-08-08T02:46:44.604Z"
   },
   {
    "duration": 22,
    "start_time": "2024-08-08T02:46:44.638Z"
   },
   {
    "duration": 18,
    "start_time": "2024-08-08T02:46:44.663Z"
   },
   {
    "duration": 60,
    "start_time": "2024-08-08T02:46:44.684Z"
   },
   {
    "duration": 20,
    "start_time": "2024-08-08T02:46:44.748Z"
   },
   {
    "duration": 21,
    "start_time": "2024-08-08T02:46:44.774Z"
   },
   {
    "duration": 20,
    "start_time": "2024-08-08T02:46:44.834Z"
   },
   {
    "duration": 40,
    "start_time": "2024-08-08T02:46:44.857Z"
   },
   {
    "duration": 439,
    "start_time": "2024-08-08T02:49:02.508Z"
   },
   {
    "duration": 163,
    "start_time": "2024-08-08T02:49:02.951Z"
   },
   {
    "duration": 25,
    "start_time": "2024-08-08T02:49:03.117Z"
   },
   {
    "duration": 36,
    "start_time": "2024-08-08T02:49:03.146Z"
   },
   {
    "duration": 4,
    "start_time": "2024-08-08T02:49:03.186Z"
   },
   {
    "duration": 6,
    "start_time": "2024-08-08T02:49:03.235Z"
   },
   {
    "duration": 6,
    "start_time": "2024-08-08T02:49:03.244Z"
   },
   {
    "duration": 35,
    "start_time": "2024-08-08T02:49:03.253Z"
   },
   {
    "duration": 5,
    "start_time": "2024-08-08T02:49:03.335Z"
   },
   {
    "duration": 26,
    "start_time": "2024-08-08T02:49:03.349Z"
   },
   {
    "duration": 82,
    "start_time": "2024-08-08T02:49:03.378Z"
   },
   {
    "duration": 32,
    "start_time": "2024-08-08T02:49:03.462Z"
   },
   {
    "duration": 103,
    "start_time": "2024-08-08T02:49:03.497Z"
   },
   {
    "duration": 100,
    "start_time": "2024-08-08T02:49:03.603Z"
   },
   {
    "duration": 89,
    "start_time": "2024-08-08T02:49:03.706Z"
   },
   {
    "duration": 64,
    "start_time": "2024-08-08T02:49:03.799Z"
   },
   {
    "duration": 6,
    "start_time": "2024-08-08T02:49:03.866Z"
   },
   {
    "duration": 67,
    "start_time": "2024-08-08T02:49:03.876Z"
   },
   {
    "duration": 51,
    "start_time": "2024-08-08T02:49:03.947Z"
   },
   {
    "duration": 124,
    "start_time": "2024-08-08T02:49:04.001Z"
   },
   {
    "duration": 55,
    "start_time": "2024-08-08T02:49:04.135Z"
   },
   {
    "duration": 13,
    "start_time": "2024-08-08T02:49:04.193Z"
   },
   {
    "duration": 4,
    "start_time": "2024-08-08T02:49:04.236Z"
   },
   {
    "duration": 24,
    "start_time": "2024-08-08T02:49:04.243Z"
   },
   {
    "duration": 20,
    "start_time": "2024-08-08T02:49:04.269Z"
   },
   {
    "duration": 20,
    "start_time": "2024-08-08T02:49:04.334Z"
   },
   {
    "duration": 20,
    "start_time": "2024-08-08T02:49:04.357Z"
   },
   {
    "duration": 62,
    "start_time": "2024-08-08T02:49:04.383Z"
   },
   {
    "duration": 20,
    "start_time": "2024-08-08T02:49:04.448Z"
   },
   {
    "duration": 72,
    "start_time": "2024-08-08T02:49:04.470Z"
   }
  ],
  "colab": {
   "collapsed_sections": [
    "E0vqbgi9ay0H",
    "VUC88oWjTJw2"
   ],
   "provenance": []
  },
  "kernelspec": {
   "display_name": "Python 3 (ipykernel)",
   "language": "python",
   "name": "python3"
  },
  "language_info": {
   "codemirror_mode": {
    "name": "ipython",
    "version": 3
   },
   "file_extension": ".py",
   "mimetype": "text/x-python",
   "name": "python",
   "nbconvert_exporter": "python",
   "pygments_lexer": "ipython3",
   "version": "3.9.19"
  },
  "toc": {
   "base_numbering": 1,
   "nav_menu": {},
   "number_sections": true,
   "sideBar": true,
   "skip_h1_title": true,
   "title_cell": "Table of Contents",
   "title_sidebar": "Contents",
   "toc_cell": true,
   "toc_position": {
    "height": "calc(100% - 180px)",
    "left": "10px",
    "top": "150px",
    "width": "307px"
   },
   "toc_section_display": true,
   "toc_window_display": true
  }
 },
 "nbformat": 4,
 "nbformat_minor": 1
}
